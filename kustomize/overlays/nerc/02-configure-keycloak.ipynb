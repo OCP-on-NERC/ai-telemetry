{
 "cells": [
  {
   "cell_type": "markdown",
   "metadata": {},
   "source": [
    "# AI Telemetry on OpenShift Local docs\n",
    "\n",
    "## About the open source GPL3 license and copyright for this product\n",
    "\n",
    "Copyright © 2024 Computate Limited Liability Company in Utah, USA\n",
    "\n",
    "This program is free software: you can redistribute it and/or modify\n",
    "it under the terms of the GNU General Public License as published by\n",
    "the Free Software Foundation, either version 3 of the License, or\n",
    "(at your option) any later version.\n",
    "\n",
    "This program is distributed in the hope that it will be useful,\n",
    "but WITHOUT ANY WARRANTY; without even the implied warranty of\n",
    "MERCHANTABILITY or FITNESS FOR A PARTICULAR PURPOSE.  See the\n",
    "GNU General Public License for more details.\n",
    "\n",
    "You should have received a copy of the GNU General Public License\n",
    "along with this program.  If not, see <https://www.gnu.org/licenses/>.\n",
    "\n",
    "ADDITIONAL TERMS\n",
    "\n",
    "As stated in section 7. c) and e) of the GPL3 license, \n",
    "\"you may supplement the terms of this License with terms,\" \n",
    "Computate has added the following additional terms to the license: \n",
    "\n",
    "  7 c) Prohibiting misrepresentation of the origin of that material, and\n",
    "    requiring that modified versions of such material be marked in\n",
    "    reasonable ways as different from the original version;\n",
    "\n",
    "  7 e) Declining to grant rights under trademark law for use of some\n",
    "    trade names, trademarks, or service marks;\n",
    "\n",
    "Please do not redistribute this course until you have built your own platform with these tools, \n",
    "separate from the computate.org platform, and reconfigure your fork of this repo to deploy \n",
    "your own platform instead of the computate.org platform. \n",
    "\n",
    "QUESTIONS\n",
    "\n",
    "For questions about this open source license, please contact our public mailing list at computate@group.computate.org\n"
   ]
  },
  {
   "cell_type": "markdown",
   "metadata": {},
   "source": [
    "## Configure Dex, Group Sync Operator, and Keycloak\n",
    "\n",
    "Configure the following environment variables to prepare to configure Dex, Group Sync Operator, and Keycloak. \n",
    "\n",
    "For `GITHUB_ORG`, you will need your own GitHub Organization (not `OCP-on-NERC`), where you can create teams, which will become groups in OpenShift Local, thanks to the Group Sync Operator. \n",
    "You can use the defaults for the rest of the variables. "
   ]
  },
  {
   "cell_type": "code",
   "execution_count": 1,
   "metadata": {
    "vscode": {
     "languageId": "shellscript"
    }
   },
   "outputs": [],
   "source": [
    "GITHUB_ORG=\n",
    "CLUSTER_ADMIN_GROUP=smart-aquaculture\n",
    "AUTH_REALM=SMARTAQUACULTURE\n",
    "AUTH_CLIENT=smartaquaculture\n",
    "SITE_NAMESPACE=smartaquaculture"
   ]
  },
  {
   "cell_type": "markdown",
   "metadata": {},
   "source": [
    "### Create a GitHub OAuth app for OpenShift authentication\n",
    "\n",
    "Run the command below to show you how to fill out the form for creating a GitHub OAuth app: "
   ]
  },
  {
   "cell_type": "code",
   "execution_count": null,
   "metadata": {
    "vscode": {
     "languageId": "shellscript"
    }
   },
   "outputs": [],
   "source": [
    "echo \"OAuth App registration page: https://github.com/organizations/$GITHUB_ORG/settings/applications/new\"\n",
    "echo \"Application name: $AUTH_CLIENT-openshift-local\"\n",
    "echo \"Homepage URL: https://console-openshift-console.apps-crc.testing\"\n",
    "echo \"Authorization callback URL: https://oauth-openshift.apps-crc.testing/oauth2callback/github\"\n",
    "echo DONE"
   ]
  },
  {
   "cell_type": "markdown",
   "metadata": {},
   "source": [
    "- Access the OAuth App registration page above. \n",
    "- Fill out the form with the values above, then click \"Register application\". \n",
    "- Click `Generate a new client secret`. "
   ]
  },
  {
   "cell_type": "markdown",
   "metadata": {},
   "source": [
    "Now create some environment variables with your new GitHub Client ID and Client Secret in the command below, then run the command. "
   ]
  },
  {
   "cell_type": "code",
   "execution_count": null,
   "metadata": {
    "vscode": {
     "languageId": "shellscript"
    }
   },
   "outputs": [],
   "source": [
    "# The GitHub OAuth App Client ID. \n",
    "GITHUB_OPENSHIFT_CLIENT=\n",
    "# The GitHub OAuth App Client Secret. \n",
    "GITHUB_OPENSHIFT_SECRET=\n",
    "echo DONE"
   ]
  },
  {
   "cell_type": "markdown",
   "metadata": {},
   "source": [
    "### Create a GitHub OAuth app for Keycloak authentication\n",
    "\n",
    "Run the command below to show you how to fill out the form for creating a Keycloak identity provider for GitHub: "
   ]
  },
  {
   "cell_type": "code",
   "execution_count": null,
   "metadata": {
    "vscode": {
     "languageId": "shellscript"
    }
   },
   "outputs": [],
   "source": [
    "echo \"OAuth App registration page: https://github.com/organizations/$GITHUB_ORG/settings/applications/new\"\n",
    "echo \"Application name: $AUTH_CLIENT-openshift-local-keycloak\"\n",
    "echo \"Homepage URL: https://$AUTH_CLIENT.apps-crc.testing\"\n",
    "echo \"Authorization callback URL: https://keycloak.apps-crc.testing/realms/$AUTH_REALM/broker/github/endpoint\"\n",
    "echo DONE"
   ]
  },
  {
   "cell_type": "markdown",
   "metadata": {},
   "source": [
    "- Access the OAuth App registration page above. \n",
    "- Fill out the form with the values above, then click \"Register application\". \n",
    "- Click `Generate a new client secret`. "
   ]
  },
  {
   "cell_type": "markdown",
   "metadata": {},
   "source": [
    "Now create some environment variables with your new GitHub Client ID and Client Secret in the command below, then run the command. "
   ]
  },
  {
   "cell_type": "code",
   "execution_count": null,
   "metadata": {
    "vscode": {
     "languageId": "shellscript"
    }
   },
   "outputs": [],
   "source": [
    "# The GitHub OAuth App Client ID. \n",
    "GITHUB_KEYCLOAK_CLIENT=\n",
    "# The GitHub OAuth App Client Secret. \n",
    "GITHUB_KEYCLOAK_SECRET=\n",
    "echo DONE"
   ]
  },
  {
   "cell_type": "markdown",
   "metadata": {},
   "source": [
    "### Create a GitHub app for OpenShift group sync\n",
    "\n",
    "Run the command below to show you how to fill out the form for creating a GitHub app for the Group Sync Operator: "
   ]
  },
  {
   "cell_type": "code",
   "execution_count": null,
   "metadata": {
    "vscode": {
     "languageId": "shellscript"
    }
   },
   "outputs": [],
   "source": [
    "echo \"GitHub App registration page: https://github.com/organizations/$GITHUB_ORG/settings/apps\"\n",
    "echo \"GitHub App name: openshift-local-group-sync\"\n",
    "echo \"Homepage URL: https://$AUTH_CLIENT.apps-crc.testing\"\n",
    "echo DONE"
   ]
  },
  {
   "cell_type": "markdown",
   "metadata": {},
   "source": [
    "- Access the `GitHub App registration page` above. \n",
    "- Access the `New GitHub App`. \n",
    "- Fill out the form with the information above. \n",
    "- Click `Generate a private key`. The key will be downloaded to your computer. \n",
    "- Click `Create GitHub App`. \n",
    "- Fill in the `GITHUB_GROUP_SYNC_APP_ID` with the numeric GitHub App Id, and the path to the downloaded `GITHUB_GROUP_SYNC_APP_PRIVATE_KEY` file in the command below, and run the command. "
   ]
  },
  {
   "cell_type": "code",
   "execution_count": null,
   "metadata": {
    "vscode": {
     "languageId": "shellscript"
    }
   },
   "outputs": [],
   "source": [
    "GITHUB_GROUP_SYNC_APP_ID=\n",
    "GITHUB_GROUP_SYNC_APP_PRIVATE_KEY="
   ]
  },
  {
   "cell_type": "markdown",
   "metadata": {},
   "source": [
    "## Run the configure Keycloak Ansible Playbook"
   ]
  },
  {
   "cell_type": "markdown",
   "metadata": {},
   "source": [
    "Run the Ansible Playbook below to configure Dex, the Group Sync Operator, and Keycloak for authentication and authorization in AI Telemetry. "
   ]
  },
  {
   "cell_type": "code",
   "execution_count": null,
   "metadata": {
    "vscode": {
     "languageId": "shellscript"
    }
   },
   "outputs": [],
   "source": [
    "ansible-playbook playbooks/04-configure-keycloak.yaml"
   ]
  },
  {
   "cell_type": "markdown",
   "metadata": {},
   "source": []
  }
 ],
 "metadata": {
  "kernelspec": {
   "display_name": "Bash",
   "language": "bash",
   "name": "bash"
  },
  "language_info": {
   "codemirror_mode": "shell",
   "file_extension": ".sh",
   "mimetype": "text/x-sh",
   "name": "bash"
  }
 },
 "nbformat": 4,
 "nbformat_minor": 2
}
