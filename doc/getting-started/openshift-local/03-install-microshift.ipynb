{
 "cells": [
  {
   "cell_type": "markdown",
   "metadata": {},
   "source": [
    "# AI Telemetry on OpenShift Local docs\n",
    "\n",
    "## About the open source GPL3 license and copyright for this product\n",
    "\n",
    "Copyright © 2024 Computate Limited Liability Company in Utah, USA\n",
    "\n",
    "This program is free software: you can redistribute it and/or modify\n",
    "it under the terms of the GNU General Public License as published by\n",
    "the Free Software Foundation, either version 3 of the License, or\n",
    "(at your option) any later version.\n",
    "\n",
    "This program is distributed in the hope that it will be useful,\n",
    "but WITHOUT ANY WARRANTY; without even the implied warranty of\n",
    "MERCHANTABILITY or FITNESS FOR A PARTICULAR PURPOSE.  See the\n",
    "GNU General Public License for more details.\n",
    "\n",
    "You should have received a copy of the GNU General Public License\n",
    "along with this program.  If not, see <https://www.gnu.org/licenses/>.\n",
    "\n",
    "ADDITIONAL TERMS\n",
    "\n",
    "As stated in section 7. c) and e) of the GPL3 license, \n",
    "\"you may supplement the terms of this License with terms,\" \n",
    "Computate has added the following additional terms to the license: \n",
    "\n",
    "  7 c) Prohibiting misrepresentation of the origin of that material, and\n",
    "    requiring that modified versions of such material be marked in\n",
    "    reasonable ways as different from the original version;\n",
    "\n",
    "  7 e) Declining to grant rights under trademark law for use of some\n",
    "    trade names, trademarks, or service marks;\n",
    "\n",
    "Please do not redistribute this course until you have built your own platform with these tools, \n",
    "separate from the computate.org platform, and reconfigure your fork of this repo to deploy \n",
    "your own platform instead of the computate.org platform. \n",
    "\n",
    "QUESTIONS\n",
    "\n",
    "For questions about this open source license, please contact our public mailing list at computate@group.computate.org\n"
   ]
  },
  {
   "cell_type": "markdown",
   "metadata": {},
   "source": [
    "## Configure OpenShift Local"
   ]
  },
  {
   "cell_type": "markdown",
   "metadata": {},
   "source": [
    "There are many ways to run applications like databases, message brokers, and search engines on your computer. \n",
    "I like to run these applications for development on my computer the same way I would in the cloud. \n",
    "Red Hat OpenShift Local makes it simple to run as many cloud-native applications as your computer has resources to support. \n",
    "\n",
    "[Click here to get started with OpenShift Local](https://developers.redhat.com/products/openshift-local/overview). "
   ]
  },
  {
   "cell_type": "markdown",
   "metadata": {},
   "source": [
    "## Configuring OpenShift Local resources\n",
    "\n",
    "To effectively configure OpenShift Local, you need to understand the amount of CPUs, memory, and storage on your computer. \n",
    "If you are running a Linux or MacOSX Operating System, you should be able to display the amount of system resources on your computer below. "
   ]
  },
  {
   "cell_type": "code",
   "execution_count": null,
   "metadata": {
    "vscode": {
     "languageId": "shellscript"
    }
   },
   "outputs": [],
   "source": [
    "echo \"System memory: $(($(grep MemTotal /proc/meminfo | awk '{print $2}') / 1000))MiB\"\n",
    "echo \"System CPUs: $(nproc)\"\n",
    "echo DONE"
   ]
  },
  {
   "cell_type": "markdown",
   "metadata": {},
   "source": [
    "Now configure the CPUs, memory, disk-size, and persistent-volume-size of OpenShift Local. \n",
    "- I recommend using the microshift preset if you have less than 64000MiB RAM, and less than 16 CPUs. \n",
    "The microshift preset does not deploy the graphical OpenShift Console, \n",
    "and several other services which reduces the amount of resources required to run your applications. \n",
    "But you will need to get comfortable with the Terminal CLI `oc` commands to use microshift. \n",
    "- For cpus: I recommend subtracting your total number of CPUs by 1. \n",
    "- For memory: I recommend dividing your total memory in half, but you can do more if you wish. \n",
    "- For disk-size: \n",
    "- For persistent-volume-size: "
   ]
  },
  {
   "cell_type": "code",
   "execution_count": null,
   "metadata": {
    "vscode": {
     "languageId": "shellscript"
    }
   },
   "outputs": [],
   "source": [
    "crc config set preset microshift\n",
    "crc config set cpus $(($(nproc) - 1))\n",
    "crc config set memory $(($(grep MemTotal /proc/meminfo | awk '{print $2}') / 1000 / 2))\n",
    "crc config set disk-size 400\n",
    "crc config set persistent-volume-size 400\n",
    "echo DONE"
   ]
  },
  {
   "cell_type": "markdown",
   "metadata": {},
   "source": [
    "Review your OpenShift Local configuration below. \n",
    "Make sure everything looks just right before starting OpenShift Local for the first time. \n",
    "\n",
    "- If you are using the microshift preset, you will likely need to delete and start again, because the disk-size and persistent-volume-size may not automatically resize. "
   ]
  },
  {
   "cell_type": "code",
   "execution_count": null,
   "metadata": {
    "vscode": {
     "languageId": "shellscript"
    }
   },
   "outputs": [],
   "source": [
    "crc config view\n",
    "echo DONE"
   ]
  },
  {
   "cell_type": "markdown",
   "metadata": {},
   "source": [
    "The next step will set up local virtualization and networking infrastructure for using OpenShift Local. \n",
    "You need to do it in your terminal because it needs root access. This one might take a long time."
   ]
  },
  {
   "cell_type": "code",
   "execution_count": null,
   "metadata": {
    "vscode": {
     "languageId": "shellscript"
    }
   },
   "outputs": [],
   "source": [
    "crc setup\n",
    "echo DONE"
   ]
  },
  {
   "cell_type": "markdown",
   "metadata": {},
   "source": [
    "When everything is ready, start OpenShift Local. "
   ]
  },
  {
   "cell_type": "code",
   "execution_count": null,
   "metadata": {
    "vscode": {
     "languageId": "shellscript"
    }
   },
   "outputs": [],
   "source": [
    "crc start\n",
    "echo DONE"
   ]
  },
  {
   "cell_type": "markdown",
   "metadata": {},
   "source": [
    "Congratulations on running OpenShift Local on your own computer! \n",
    "You should see logs similar to this: \n",
    "\n",
    "```logs\n",
    "INFO Using bundle path /home/ctate/.crc/cache/crc_microshift_libvirt_4.15.14_amd64.crcbundle \n",
    "INFO Checking if running as non-root              \n",
    "INFO Checking if running inside WSL2              \n",
    "INFO Checking if crc-admin-helper executable is cached \n",
    "INFO Checking if running on a supported CPU architecture \n",
    "INFO Checking if crc executable symlink exists    \n",
    "INFO Checking minimum RAM requirements            \n",
    "INFO Check if Podman binary exists in: /home/ctate/.crc/bin/oc \n",
    "INFO Checking if Virtualization is enabled        \n",
    "INFO Checking if KVM is enabled                   \n",
    "INFO Checking if libvirt is installed             \n",
    "INFO Checking if user is part of libvirt group    \n",
    "INFO Checking if active user/process is currently part of the libvirt group \n",
    "INFO Checking if libvirt daemon is running        \n",
    "INFO Checking if a supported libvirt version is installed \n",
    "INFO Checking if crc-driver-libvirt is installed  \n",
    "INFO Checking crc daemon systemd socket units     \n",
    "INFO Checking if systemd-networkd is running      \n",
    "INFO Checking if NetworkManager is installed      \n",
    "INFO Checking if NetworkManager service is running \n",
    "INFO Checking if /etc/NetworkManager/conf.d/crc-nm-dnsmasq.conf exists \n",
    "INFO Checking if /etc/NetworkManager/dnsmasq.d/crc.conf exists \n",
    "INFO Checking if libvirt 'crc' network is available \n",
    "INFO Checking if libvirt 'crc' network is active  \n",
    "INFO Loading bundle: crc_microshift_libvirt_4.15.14_amd64... \n",
    "INFO Starting CRC VM for microshift 4.15.14...    \n",
    "INFO CRC instance is running with IP 192.168.130.11 \n",
    "INFO CRC VM is running                            \n",
    "INFO Configuring shared directories               \n",
    "INFO Check internal and public DNS query...       \n",
    "INFO Check DNS query from host...                 \n",
    "INFO Starting Microshift service... [takes around 1min] \n",
    "INFO Waiting for kube-apiserver availability... [takes around 2min] \n",
    "INFO Adding microshift context to kubeconfig...   \n",
    "Started the MicroShift cluster.\n",
    "```"
   ]
  },
  {
   "cell_type": "markdown",
   "metadata": {},
   "source": [
    "### Install oc\n",
    "To add oc to PATH in your current terminal, run this:"
   ]
  },
  {
   "cell_type": "code",
   "execution_count": null,
   "metadata": {
    "vscode": {
     "languageId": "shellscript"
    }
   },
   "outputs": [],
   "source": [
    "crc oc-env\n",
    "echo DONE"
   ]
  },
  {
   "cell_type": "markdown",
   "metadata": {},
   "source": [
    "#### Update PATH in ~/.bashrc\n",
    "\n",
    "To add oc to your path perminantly, update your `~/.bashrc` file."
   ]
  },
  {
   "cell_type": "code",
   "execution_count": null,
   "metadata": {
    "vscode": {
     "languageId": "shellscript"
    }
   },
   "outputs": [],
   "source": [
    "\n",
    "echo 'PATH=$PATH:$HOME/.crc/bin/oc' | tee -a ~/.bashrc\n",
    "echo DONE"
   ]
  },
  {
   "cell_type": "markdown",
   "metadata": {},
   "source": [
    "If you open a new terminal or type `source ~/.bashrc`, you will be able to run the `oc` command. "
   ]
  },
  {
   "cell_type": "markdown",
   "metadata": {},
   "source": [
    "Try out using the `oc` CLI command in your terminal. \n",
    "You can, for example, query the currently running pods in all namespaces in OpenShift. \n",
    "You should see pods running in the following namespaces: kube-system, openshift-dns, openshift-ingress, openshift-ovn-kubernetes. "
   ]
  },
  {
   "cell_type": "code",
   "execution_count": null,
   "metadata": {
    "vscode": {
     "languageId": "shellscript"
    }
   },
   "outputs": [],
   "source": [
    "env PATH=$PATH:$HOME/.crc/bin/oc oc get pod -A\n",
    "echo DONE"
   ]
  },
  {
   "cell_type": "markdown",
   "metadata": {},
   "source": [
    "Try out using the `oc` CLI command in your terminal. \n",
    "If you use multiple OpenShift or Kubernetes environments on your computer, \n",
    "you can log back into the microshift CLI with the command below. "
   ]
  },
  {
   "cell_type": "code",
   "execution_count": null,
   "metadata": {
    "vscode": {
     "languageId": "shellscript"
    }
   },
   "outputs": [],
   "source": [
    "eval $(crc oc-env)\n",
    "echo DONE"
   ]
  }
 ],
 "metadata": {
  "kernelspec": {
   "display_name": "Bash",
   "language": "bash",
   "name": "bash"
  },
  "language_info": {
   "codemirror_mode": "shell",
   "file_extension": ".sh",
   "mimetype": "text/x-sh",
   "name": "bash"
  }
 },
 "nbformat": 4,
 "nbformat_minor": 2
}
