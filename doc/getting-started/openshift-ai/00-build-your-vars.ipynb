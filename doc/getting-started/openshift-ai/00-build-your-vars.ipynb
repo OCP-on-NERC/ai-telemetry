{
 "cells": [
  {
   "cell_type": "markdown",
   "metadata": {},
   "source": [
    "# Computate Smart Cloud Builder\n",
    "\n",
    "## About the open source GPL3 license and copyright for this product\n",
    "\n",
    "Copyright © 2024 Computate Limited Liability Company in Utah, USA\n",
    "\n",
    "This program is free software: you can redistribute it and/or modify\n",
    "it under the terms of the GNU General Public License as published by\n",
    "the Free Software Foundation, either version 3 of the License, or\n",
    "(at your option) any later version.\n",
    "\n",
    "This program is distributed in the hope that it will be useful,\n",
    "but WITHOUT ANY WARRANTY; without even the implied warranty of\n",
    "MERCHANTABILITY or FITNESS FOR A PARTICULAR PURPOSE.  See the\n",
    "GNU General Public License for more details.\n",
    "\n",
    "You should have received a copy of the GNU General Public License\n",
    "along with this program.  If not, see <https://www.gnu.org/licenses/>.\n",
    "\n",
    "ADDITIONAL TERMS\n",
    "\n",
    "As stated in section 7. c) and e) of the GPL3 license, \n",
    "\"you may supplement the terms of this License with terms,\" \n",
    "Computate has added the following additional terms to the license: \n",
    "\n",
    "  7 c) Prohibiting misrepresentation of the origin of that material, and\n",
    "    requiring that modified versions of such material be marked in\n",
    "    reasonable ways as different from the original version;\n",
    "\n",
    "  7 e) Declining to grant rights under trademark law for use of some\n",
    "    trade names, trademarks, or service marks;\n",
    "\n",
    "Please do not redistribute this course until you have built your own platform with these tools, \n",
    "separate from the computate.org platform, and reconfigure your fork of this repo to deploy \n",
    "your own platform instead of the computate.org platform. \n",
    "\n",
    "QUESTIONS\n",
    "\n",
    "For questions about this open source license, please contact our public mailing list at computate@group.computate.org\n"
   ]
  },
  {
   "cell_type": "markdown",
   "metadata": {},
   "source": [
    "# Generate your project variables"
   ]
  },
  {
   "cell_type": "markdown",
   "metadata": {},
   "source": [
    "## Clone your fork of ai-telemetry\n",
    "\n",
    "The best place for your source code in this OpenShift AI Workbench is the home directory. \n",
    "This would be the `$HOME/ai-telemetry`, the absolute path would be `/opt/app-root/src/ai-telemetry`. \n",
    "\n",
    "Reconfigure the command below to clone your fork of the ai-telemetry repo. "
   ]
  },
  {
   "cell_type": "code",
   "execution_count": null,
   "metadata": {
    "vscode": {
     "languageId": "shellscript"
    }
   },
   "outputs": [],
   "source": [
    "git clone https://github.com/computate/ai-telemetry.git\n",
    "echo DONE"
   ]
  },
  {
   "cell_type": "markdown",
   "metadata": {},
   "source": [
    "## Configure your OpenShift AI Workbench name\n",
    "\n",
    "Customize the environment variable below with your OpenShift AI Workbench name. "
   ]
  },
  {
   "cell_type": "code",
   "execution_count": null,
   "metadata": {
    "vscode": {
     "languageId": "shellscript"
    }
   },
   "outputs": [],
   "source": [
    "OPENSHIFT_AI_WORKBENCH=computate\n",
    "echo DONE"
   ]
  },
  {
   "cell_type": "markdown",
   "metadata": {},
   "source": [
    "## Create a kustomize overlay directory for your workbench\n",
    "\n",
    "We will keep our individual developer vars separate from each other by creating a separate directory containing our vars.yaml file. "
   ]
  },
  {
   "cell_type": "code",
   "execution_count": null,
   "metadata": {
    "vscode": {
     "languageId": "shellscript"
    }
   },
   "outputs": [],
   "source": [
    "mkdir -p ~/ai-telemetry/kustomize/overlays/$OPENSHIFT_AI_WORKBENCH\n",
    "ls -ld ~/ai-telemetry/kustomize/overlays/$OPENSHIFT_AI_WORKBENCH\n",
    "echo DONE"
   ]
  },
  {
   "cell_type": "markdown",
   "metadata": {},
   "source": [
    "## Copy a site vars.yaml file from a template\n",
    "\n",
    "Copy the existing vars template `~/ai-telemetry/kustomize/overlays/openshift-ai/vars.yaml` into your overlay directory. "
   ]
  },
  {
   "cell_type": "code",
   "execution_count": null,
   "metadata": {
    "vscode": {
     "languageId": "shellscript"
    }
   },
   "outputs": [],
   "source": [
    "cp ~/ai-telemetry/kustomize/overlays/openshift-ai/vars.yaml ~/ai-telemetry/kustomize/overlays/$OPENSHIFT_AI_WORKBENCH/vars.yaml\n",
    "ls -l ~/ai-telemetry/kustomize/overlays/$OPENSHIFT_AI_WORKBENCH/vars.yaml\n",
    "echo DONE"
   ]
  },
  {
   "cell_type": "markdown",
   "metadata": {},
   "source": [
    "## Customize your overlay vars.yaml with your OPENSHIFT_AI_WORKBENCH\n",
    "\n",
    "The next command will find and replace your OPENSHIFT_AI_WORKBENCH name with perl in your vars. "
   ]
  },
  {
   "cell_type": "code",
   "execution_count": null,
   "metadata": {
    "vscode": {
     "languageId": "shellscript"
    }
   },
   "outputs": [],
   "source": [
    "perl -pi -e 's/^(OPENSHIFT_AI_WORKBENCH:).*/$1 '\"$OPENSHIFT_AI_WORKBENCH\"'/g' ~/ai-telemetry/kustomize/overlays/$OPENSHIFT_AI_WORKBENCH/vars.yaml\n",
    "grep -r 'OPENSHIFT_AI_WORKBENCH:' ~/ai-telemetry/kustomize/overlays/$OPENSHIFT_AI_WORKBENCH/vars.yaml\n",
    "echo DONE"
   ]
  },
  {
   "cell_type": "markdown",
   "metadata": {},
   "source": [
    "## Create a symbolic link in this course to the project vars.yaml\n",
    "\n",
    "To make the rest of this course work smoothly, \n",
    "we will create a symbolic link from this course to your project's new vars.yaml. \n",
    "Make sure that the symbolic link looks correct. "
   ]
  },
  {
   "cell_type": "code",
   "execution_count": null,
   "metadata": {
    "vscode": {
     "languageId": "shellscript"
    }
   },
   "outputs": [],
   "source": [
    "ln -s ~/ai-telemetry/kustomize/overlays/$OPENSHIFT_AI_WORKBENCH/vars.yaml ~/ai-telemetry/doc/getting-started/openshift-ai/vars.yaml\n",
    "ls -l ~/ai-telemetry/doc/getting-started/openshift-ai/vars.yaml\n",
    "echo DONE"
   ]
  },
  {
   "cell_type": "markdown",
   "metadata": {},
   "source": [
    "## Test your new vars\n",
    "\n",
    "Run the command below to test that your vars are working. "
   ]
  },
  {
   "cell_type": "code",
   "execution_count": null,
   "metadata": {
    "vscode": {
     "languageId": "shellscript"
    }
   },
   "outputs": [],
   "source": [
    "./vars.py"
   ]
  },
  {
   "cell_type": "markdown",
   "metadata": {},
   "source": []
  }
 ],
 "metadata": {
  "kernelspec": {
   "display_name": "Bash",
   "language": "bash",
   "name": "bash"
  },
  "language_info": {
   "codemirror_mode": "shell",
   "file_extension": ".sh",
   "mimetype": "text/x-sh",
   "name": "bash"
  }
 },
 "nbformat": 4,
 "nbformat_minor": 2
}
