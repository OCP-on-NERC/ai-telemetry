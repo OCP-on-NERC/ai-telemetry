{
 "cells": [
  {
   "cell_type": "markdown",
   "id": "20f6539f",
   "metadata": {},
   "source": [
    "# Delete Gpu class info from computate Solr collection\n",
    "\n",
    "As of Wed Oct 23, we are removing the Gpu.java class because GpuDevice.java is more accurate with the metrics we collect. "
   ]
  },
  {
   "cell_type": "code",
   "execution_count": null,
   "id": "a9183b78",
   "metadata": {
    "vscode": {
     "languageId": "shellscript"
    }
   },
   "outputs": [],
   "source": [
    "eval $(./vars.py)\n",
    "oc -n $SOLR_NAMESPACE exec pod/solr-0 -- curl -k -s -X POST -u \"admin:$(oc -n $SOLR_NAMESPACE get secret/solr -o jsonpath={.data.solr-password} | base64 -d)\" \\\n",
    "  -H \"Content-Type: application/json\" \\\n",
    "  --data-binary '{\"delete\": {\"query\": \"filter(classeNomEnsemble_enUS_indexed_string:org.mghpcc.aitelemetry.model.gpu)\"}}' \\\n",
    "  \"http://localhost:8983/solr/$SOLR_COLLECTION_COMPUTATE/update?commitWithin=1000&overwrite=true&wt=json\"\n",
    "echo DONE"
   ]
  },
  {
   "cell_type": "markdown",
   "id": "d3c4ba5b",
   "metadata": {},
   "source": []
  }
 ],
 "metadata": {
  "kernelspec": {
   "display_name": "Bash",
   "language": "bash",
   "name": "bash"
  },
  "language_info": {
   "codemirror_mode": "shell",
   "file_extension": ".sh",
   "mimetype": "text/x-sh",
   "name": "bash"
  }
 },
 "nbformat": 4,
 "nbformat_minor": 5
}
