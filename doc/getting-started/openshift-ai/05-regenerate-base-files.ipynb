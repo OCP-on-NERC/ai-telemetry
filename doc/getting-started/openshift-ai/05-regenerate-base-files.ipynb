{
 "cells": [
  {
   "cell_type": "markdown",
   "id": "20f6539f",
   "metadata": {},
   "source": [
    "# Create a new Java database and search model class"
   ]
  },
  {
   "cell_type": "markdown",
   "id": "2a80b6c3",
   "metadata": {},
   "source": [
    "Specify the details of your new Java class below. "
   ]
  },
  {
   "cell_type": "markdown",
   "id": "8a2a4437",
   "metadata": {},
   "source": [
    "## Rebuild the project OpenAPI spec, database scripts, and more\n",
    "\n",
    "A running web application is made up of much more than Java code. \n",
    "\n",
    "- A data-driven website is also made up of CSS Stylesheets and Java Script. Each model has it's own set of specific JavaScript specific to it's fields and APIs. \n",
    "\n",
    "- An OpenAPI Spec is generated to map out all the APIs and pages in the site for system integrators to consume or update data in the site. \n",
    "\n",
    "- A database schema is also generated for storing all model data with specific field values, tables, and foreign key relations. \n",
    "\n",
    "Run the command below to generate all of the code listed above. "
   ]
  },
  {
   "cell_type": "markdown",
   "id": "7715335b",
   "metadata": {},
   "source": [
    "Run the `index.sh` shell script of the `computate` project on  the  `smartvillage-platform` project to index all of the `smartvillage-platform` Java classes into the Apache Solr search engine. "
   ]
  },
  {
   "cell_type": "code",
   "execution_count": 3,
   "id": "7831de89",
   "metadata": {
    "vscode": {
     "languageId": "shellscript"
    }
   },
   "outputs": [
    {
     "name": "stdout",
     "output_type": "stream",
     "text": [
      "[\u001b[1;34mINFO\u001b[m] Scanning for projects...\n",
      "[\u001b[1;34mINFO\u001b[m] Inspecting build with total of 1 modules...\n",
      "[\u001b[1;34mINFO\u001b[m] Installing Nexus Staging features:\n",
      "[\u001b[1;34mINFO\u001b[m]   ... total of 1 executions of maven-deploy-plugin replaced with nexus-staging-maven-plugin\n",
      "[\u001b[1;34mINFO\u001b[m] \n",
      "[\u001b[1;34mINFO\u001b[m] \u001b[1m-----------------------< \u001b[0;36morg.mghpcc:aitelemetry\u001b[0;1m >-----------------------\u001b[m\n",
      "[\u001b[1;34mINFO\u001b[m] \u001b[1mBuilding Learn that computer 1.0.0\u001b[m\n",
      "[\u001b[1;34mINFO\u001b[m] \u001b[1m--------------------------------[ jar ]---------------------------------\u001b[m\n",
      "[\u001b[1;33mWARNING\u001b[m] The POM for org.xhtmlrenderer:flying-saucer-swt:jar:9.1.22 is invalid, transitive dependencies (if any) will not be available, enable debug logging for more details\n",
      "[\u001b[1;34mINFO\u001b[m] \n",
      "[\u001b[1;34mINFO\u001b[m] \u001b[1m--- \u001b[0;32mexec-maven-plugin:3.1.0:java\u001b[m \u001b[1m(default-cli)\u001b[m @ \u001b[36maitelemetry\u001b[0;1m ---\u001b[m\n",
      "[org.mghpcc.aitelemetry.verticle.MainVerticle.main()] INFO io.vertx.spi.cluster.zookeeper.ZookeeperClusterManager - Loaded zookeeper.json file from resourceLocation=zookeeper.json\n",
      "[vert.x-eventloop-thread-0] INFO org.mghpcc.aitelemetry.verticle.MainVerticle - The config was configured successfully. \n",
      "[vert.x-eventloop-thread-0] INFO org.computate.vertx.openapi.Swagger2Generator - Write OpenAPI completed. \n",
      "[vert.x-eventloop-thread-0] INFO org.computate.vertx.openapi.BaseGenerator - Write SQL completed. \n",
      "[vert.x-eventloop-thread-0] INFO org.computate.vertx.openapi.BaseGenerator - Write Articles completed. \n",
      "[vert.x-eventloop-thread-0] INFO org.computate.vertx.openapi.ProjectGenerator - Copy platform static files succeeded. \n",
      "\u001b[0m\u001b[0m\n",
      "DONE\n"
     ]
    }
   ],
   "source": [
    "eval $(./vars.py)\n",
    "(cd $SITE_SRC && env \\\n",
    "  RUN_ARTICLE_GENERATOR=true \\\n",
    "  RUN_OPENAPI3_GENERATOR=true \\\n",
    "  RUN_PROJECT_GENERATOR=true \\\n",
    "  RUN_SQL_GENERATOR=true \\\n",
    "  VARS_PATH=$VARS_PATH \\\n",
    "  mvn exec:java -Dexec.mainClass=$SITE_MAIN_VERTICLE_PACKAGE.MainVerticle)\n",
    "echo DONE"
   ]
  },
  {
   "cell_type": "markdown",
   "id": "3420f465",
   "metadata": {},
   "source": [
    "## Run SQL create scripts with new PostgreSQL tables\n",
    "When we create new Smart Data Models that are persisted in the PostgreSQL database, we need to make sure that our database has all the tables and fields required to persist the data. Run the commands below to rsync the `db-create.sql` script to the PostgreSQL pod. It will connect again and apply all of the database schema changes to the database. "
   ]
  },
  {
   "cell_type": "code",
   "execution_count": 4,
   "id": "779ff85c",
   "metadata": {
    "vscode": {
     "languageId": "shellscript"
    }
   },
   "outputs": [
    {
     "name": "stdout",
     "output_type": "stream",
     "text": [
      "WARNING: cannot use rsync: rsync not available in container\n",
      "db-create.sql\n",
      "db-drop.sql\n",
      "CREATE TABLE\n",
      "ALTER TABLE\n",
      "ALTER TABLE\n",
      "ALTER TABLE\n",
      "ALTER TABLE\n",
      "ALTER TABLE\n",
      "ALTER TABLE\n",
      "ALTER TABLE\n",
      "ALTER TABLE\n",
      "ALTER TABLE\n",
      "ALTER TABLE\n",
      "ALTER TABLE\n",
      "ALTER TABLE\n",
      "CREATE TABLE\n",
      "ALTER TABLE\n",
      "ALTER TABLE\n",
      "ALTER TABLE\n",
      "ALTER TABLE\n",
      "ALTER TABLE\n",
      "ALTER TABLE\n",
      "ALTER TABLE\n",
      "ALTER TABLE\n",
      "ALTER TABLE\n",
      "ALTER TABLE\n",
      "ALTER TABLE\n",
      "ALTER TABLE\n",
      "CREATE TABLE\n",
      "ALTER TABLE\n",
      "ALTER TABLE\n",
      "ALTER TABLE\n",
      "ALTER TABLE\n",
      "ALTER TABLE\n",
      "ALTER TABLE\n",
      "ALTER TABLE\n",
      "ALTER TABLE\n",
      "ALTER TABLE\n",
      "ALTER TABLE\n",
      "CREATE TABLE\n",
      "ALTER TABLE\n",
      "ALTER TABLE\n",
      "ALTER TABLE\n",
      "ALTER TABLE\n",
      "ALTER TABLE\n",
      "ALTER TABLE\n",
      "ALTER TABLE\n",
      "ALTER TABLE\n",
      "ALTER TABLE\n",
      "ALTER TABLE\n",
      "CREATE TABLE\n",
      "ALTER TABLE\n",
      "ALTER TABLE\n",
      "ALTER TABLE\n",
      "ALTER TABLE\n",
      "ALTER TABLE\n",
      "ALTER TABLE\n",
      "ALTER TABLE\n",
      "ALTER TABLE\n",
      "ALTER TABLE\n",
      "ALTER TABLE\n",
      "ALTER TABLE\n",
      "ALTER TABLE\n",
      "ALTER TABLE\n",
      "ALTER TABLE\n",
      "CREATE TABLE\n",
      "ALTER TABLE\n",
      "ALTER TABLE\n",
      "ALTER TABLE\n",
      "ALTER TABLE\n",
      "ALTER TABLE\n",
      "ALTER TABLE\n",
      "ALTER TABLE\n",
      "ALTER TABLE\n",
      "ALTER TABLE\n",
      "ALTER TABLE\n",
      "CREATE TABLE\n",
      "ALTER TABLE\n",
      "ALTER TABLE\n",
      "ALTER TABLE\n",
      "ALTER TABLE\n",
      "ALTER TABLE\n",
      "ALTER TABLE\n",
      "ALTER TABLE\n",
      "ALTER TABLE\n",
      "ALTER TABLE\n",
      "ALTER TABLE\n",
      "ALTER TABLE\n",
      "ALTER TABLE\n",
      "ALTER TABLE\n",
      "ALTER TABLE\n",
      "DONE\n"
     ]
    }
   ],
   "source": [
    "eval $(./vars.py)\n",
    "oc exec pod/postgresql-0 -- mkdir -p /bitnami/postgresql/sql/\n",
    "oc rsync $SITE_SRC/src/main/resources/sql/ \\\n",
    "  pod/postgresql-0:/bitnami/postgresql/sql/\n",
    "oc exec pod/postgresql-0 -- \\\n",
    "  env PGPASSWORD=$(oc get secret/postgres-pguser-$DATABASE_USERNAME -o jsonpath={.data.password} | base64 -d) \\\n",
    "  psql -U $DATABASE_USERNAME -d $DATABASE_DATABASE -f /bitnami/postgresql/sql/db-create.sql\n",
    "echo DONE"
   ]
  },
  {
   "cell_type": "markdown",
   "id": "217cf298",
   "metadata": {},
   "source": [
    "### Update your project MainVerticle.java Vert.x Verticle"
   ]
  },
  {
   "cell_type": "code",
   "execution_count": null,
   "id": "77136939",
   "metadata": {
    "vscode": {
     "languageId": "shellscript"
    }
   },
   "outputs": [],
   "source": [
    "eval $(./vars.py)\n",
    "ansible-playbook -e @$VARS_PATH playbooks/create-file.yaml \\\n",
    "  -e FILE_PATH=\"{{ SITE_SRC }}/src/main/java/{{ SITE_MAIN_VERTICLE_PACKAGE | replace('.', '/') }}/MainVerticle.java\" \\\n",
    "  -e FILE_TEMPLATE=MainVerticle.java\n",
    "echo DONE"
   ]
  },
  {
   "cell_type": "markdown",
   "id": "fe4a7f23",
   "metadata": {},
   "source": [
    "### Update your project WorkerVerticle.java Vert.x Verticle"
   ]
  },
  {
   "cell_type": "code",
   "execution_count": null,
   "id": "01521f70",
   "metadata": {
    "vscode": {
     "languageId": "shellscript"
    }
   },
   "outputs": [],
   "source": [
    "eval $(./vars.py)\n",
    "ansible-playbook -e @$VARS_PATH playbooks/create-file.yaml \\\n",
    "  -e FILE_PATH=\"{{ SITE_SRC }}/src/main/java/{{ SITE_MAIN_VERTICLE_PACKAGE | replace('.', '/') }}/WorkerVerticle.java\" \\\n",
    "  -e FILE_TEMPLATE=WorkerVerticle.java\n",
    "echo DONE"
   ]
  },
  {
   "cell_type": "markdown",
   "id": "216d3967",
   "metadata": {},
   "source": [
    "### Create your project PageLayout.htm Jinja2 HTML template"
   ]
  },
  {
   "cell_type": "code",
   "execution_count": null,
   "id": "3adef3b8",
   "metadata": {
    "vscode": {
     "languageId": "shellscript"
    }
   },
   "outputs": [],
   "source": [
    "eval $(./vars.py)\n",
    "ansible-playbook -e @$VARS_PATH playbooks/create-file.yaml \\\n",
    "  -e FILE_PATH=\"{{ SITE_SRC }}/src/main/resources/templates/en-us/PageLayout.htm\" \\\n",
    "  -e FILE_TEMPLATE=PageLayout.htm\n",
    "echo DONE"
   ]
  },
  {
   "cell_type": "markdown",
   "id": "5f096818",
   "metadata": {},
   "source": [
    "## Create a Keycloak auth resource for your model\n"
   ]
  },
  {
   "cell_type": "markdown",
   "id": "dd463045",
   "metadata": {},
   "source": [
    "Create a Keycloak auth Resource for your new model in the site. "
   ]
  },
  {
   "cell_type": "code",
   "execution_count": null,
   "id": "384112ee",
   "metadata": {
    "vscode": {
     "languageId": "shellscript"
    }
   },
   "outputs": [],
   "source": [
    "eval $(./vars.py)\n",
    "\n",
    "ACCESS_TOKEN=$(curl -k -s -X POST -d \"username=admin\" -d \"grant_type=password\" -d \"client_id=admin-cli\" \\\n",
    "  -d \"password=$(oc -n $AUTH_NAMESPACE get secret/keycloak-initial-admin -o jsonpath={.data.admin-password} | base64 -d)\" \\\n",
    "  $AUTH_URL/realms/master/protocol/openid-connect/token | jq -r \".access_token\")\n",
    "\n",
    "curl -k -i -X POST -H \"Content-Type: application/json\" -H \"Authorization: Bearer $ACCESS_TOKEN\" \\\n",
    "  \"$AUTH_URL/admin/realms/$AUTH_REALM/clients/$AUTH_CLIENT/authz/resource-server/resource\" \\\n",
    "  --data '{\"name\":\"'\"$CLASS_SIMPLE_NAME\"'\",\"displayName\":\"'\"$CLASS_SIMPLE_NAME\"'\",\"scopes\":[\"POST\",\"PATCH\",\"GET\",\"'\"$AUTH_SCOPE_ADMIN\"'\",\"'\"$AUTH_SCOPE_SUPER_ADMIN\"'\"]}'\n",
    "\n",
    "echo DONE"
   ]
  },
  {
   "cell_type": "markdown",
   "id": "8dece6e6",
   "metadata": {},
   "source": [
    "## Grant POST, PATCH, GET, SiteAdmin permissions for SiteAdmins to your new model\n"
   ]
  },
  {
   "cell_type": "markdown",
   "id": "af029acf",
   "metadata": {},
   "source": [
    "Create a Keycloak auth Permission for SiteAdmins to use the POST, PATCH, GET and SiteAdmin scopes of your model. "
   ]
  },
  {
   "cell_type": "code",
   "execution_count": null,
   "id": "925c9d14",
   "metadata": {
    "vscode": {
     "languageId": "shellscript"
    }
   },
   "outputs": [],
   "source": [
    "eval $(./vars.py)\n",
    "\n",
    "ACCESS_TOKEN=$(curl -k -s -X POST -d \"username=admin\" -d \"grant_type=password\" -d \"client_id=admin-cli\" \\\n",
    "  -d \"password=$(oc -n $AUTH_NAMESPACE get secret/keycloak-initial-admin -o jsonpath={.data.admin-password} | base64 -d)\" \\\n",
    "  $AUTH_URL/realms/master/protocol/openid-connect/token | jq -r \".access_token\")\n",
    "\n",
    "curl -k -i -X POST -H \"Content-Type: application/json\" -H \"Authorization: Bearer $ACCESS_TOKEN\" \\\n",
    "  \"$AUTH_URL/admin/realms/$AUTH_REALM/clients/$AUTH_CLIENT/authz/resource-server/permission/scope\" \\\n",
    "  --data '{\"name\":\"group-'\"$AUTH_SCOPE_ADMIN\"'-resource-'\"$CLASS_SIMPLE_NAME\"'\"\n",
    "      ,\"decisionStrategy\":\"AFFIRMATIVE\"\n",
    "      ,\"description\":\"'\"$AUTH_SCOPE_ADMIN\"' group access to all '\"$CLASS_SIMPLE_NAME\"'\"\n",
    "      ,\"resources\":[\"'\"$CLASS_SIMPLE_NAME\"'\"]\n",
    "      ,\"policies\":[\"'\"$AUTH_REALM\"'-group-'\"$AUTH_SCOPE_ADMIN\"'\"]\n",
    "      ,\"scopes\":[\"'\"$AUTH_REALM\"'-POST\",\"'\"$AUTH_REALM\"'-PATCH\",\"'\"$AUTH_REALM\"'-GET\",\"'\"$AUTH_REALM\"'-'\"$AUTH_SCOPE_ADMIN\"'\"]\n",
    "      }'\n",
    "\n",
    "echo DONE"
   ]
  },
  {
   "cell_type": "markdown",
   "id": "5b387474",
   "metadata": {},
   "source": [
    "## Grant POST, PATCH, GET, SiteAdmin, SuperAdmin permissions for SuperAdmins to your new model\n"
   ]
  },
  {
   "cell_type": "markdown",
   "id": "8cd8bb9e",
   "metadata": {},
   "source": [
    "Create a Keycloak auth Permission for SuperAdmins to use the POST, PATCH, GET, SiteAdmin, and SuperAdmin scopes of your model. "
   ]
  },
  {
   "cell_type": "code",
   "execution_count": null,
   "id": "42f901de",
   "metadata": {
    "vscode": {
     "languageId": "shellscript"
    }
   },
   "outputs": [],
   "source": [
    "eval $(./vars.py)\n",
    "\n",
    "ACCESS_TOKEN=$(curl -k -s -X POST -d \"username=admin\" -d \"grant_type=password\" -d \"client_id=admin-cli\" \\\n",
    "  -d \"password=$(oc -n $AUTH_NAMESPACE get secret/keycloak-initial-admin -o jsonpath={.data.admin-password} | base64 -d)\" \\\n",
    "  $AUTH_URL/realms/master/protocol/openid-connect/token | jq -r \".access_token\")\n",
    "\n",
    "curl -k -i -X POST -H \"Content-Type: application/json\" -H \"Authorization: Bearer $ACCESS_TOKEN\" \\\n",
    "  \"$AUTH_URL/admin/realms/$AUTH_REALM/clients/$AUTH_CLIENT/authz/resource-server/permission/scope\" \\\n",
    "  --data '{\"name\":\"group-'\"$AUTH_SCOPE_SUPER_ADMIN\"'-resource-'\"$CLASS_SIMPLE_NAME\"'\"\n",
    "      ,\"decisionStrategy\":\"AFFIRMATIVE\"\n",
    "      ,\"description\":\"'\"$AUTH_SCOPE_SUPER_ADMIN\"' group access to all '\"$CLASS_SIMPLE_NAME\"'\"\n",
    "      ,\"resources\":[\"'\"$CLASS_SIMPLE_NAME\"'\"]\n",
    "      ,\"policies\":[\"'\"$AUTH_REALM\"'-group-'\"$AUTH_SCOPE_SUPER_ADMIN\"'\"]\n",
    "      ,\"scopes\":[\"'\"$AUTH_REALM\"'-POST\",\"'\"$AUTH_REALM\"'-PATCH\",\"'\"$AUTH_REALM\"'-GET\",\"'\"$AUTH_REALM\"'-'\"$AUTH_SCOPE_ADMIN\"'\",\"'\"$AUTH_REALM\"'-'\"$AUTH_SCOPE_SUPER_ADMIN\"'\"]\n",
    "      }'\n",
    "\n",
    "echo DONE"
   ]
  },
  {
   "cell_type": "markdown",
   "id": "dd0b3b8b",
   "metadata": {},
   "source": [
    "## Compile your Java project"
   ]
  },
  {
   "cell_type": "code",
   "execution_count": null,
   "id": "d142b901",
   "metadata": {
    "vscode": {
     "languageId": "shellscript"
    }
   },
   "outputs": [],
   "source": [
    "eval $(./vars.py)\n",
    "(cd $SITE_SRC && mvn clean install)\n",
    "echo DONE"
   ]
  },
  {
   "cell_type": "code",
   "execution_count": null,
   "id": "0c56f5f2",
   "metadata": {
    "vscode": {
     "languageId": "shellscript"
    }
   },
   "outputs": [],
   "source": []
  },
  {
   "cell_type": "markdown",
   "id": "d3c4ba5b",
   "metadata": {},
   "source": []
  }
 ],
 "metadata": {
  "kernelspec": {
   "display_name": "Bash",
   "language": "bash",
   "name": "bash"
  },
  "language_info": {
   "codemirror_mode": "shell",
   "file_extension": ".sh",
   "mimetype": "text/x-sh",
   "name": "bash"
  }
 },
 "nbformat": 4,
 "nbformat_minor": 5
}
