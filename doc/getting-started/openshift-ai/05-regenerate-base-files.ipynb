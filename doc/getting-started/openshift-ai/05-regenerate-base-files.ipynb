{
 "cells": [
  {
   "cell_type": "markdown",
   "id": "20f6539f",
   "metadata": {},
   "source": [
    "# Create a new Java database and search model class"
   ]
  },
  {
   "cell_type": "markdown",
   "id": "2a80b6c3",
   "metadata": {},
   "source": [
    "Specify the details of your new Java class below. "
   ]
  },
  {
   "cell_type": "markdown",
   "id": "8a2a4437",
   "metadata": {},
   "source": [
    "## Rebuild the project OpenAPI spec, database scripts, and more\n",
    "\n",
    "A running web application is made up of much more than Java code. \n",
    "\n",
    "- A data-driven website is also made up of CSS Stylesheets and Java Script. Each model has it's own set of specific JavaScript specific to it's fields and APIs. \n",
    "\n",
    "- An OpenAPI Spec is generated to map out all the APIs and pages in the site for system integrators to consume or update data in the site. \n",
    "\n",
    "- A database schema is also generated for storing all model data with specific field values, tables, and foreign key relations. \n",
    "\n",
    "Run the command below to generate all of the code listed above. "
   ]
  },
  {
   "cell_type": "markdown",
   "id": "7715335b",
   "metadata": {},
   "source": [
    "Run the `index.sh` shell script of the `computate` project on  the  `smartvillage-platform` project to index all of the `smartvillage-platform` Java classes into the Apache Solr search engine. "
   ]
  },
  {
   "cell_type": "code",
   "execution_count": null,
   "id": "7831de89",
   "metadata": {
    "vscode": {
     "languageId": "shellscript"
    }
   },
   "outputs": [],
   "source": [
    "eval $(./vars.py)\n",
    "(cd $SITE_SRC && env \\\n",
    "  RUN_ARTICLE_GENERATOR=true \\\n",
    "  RUN_OPENAPI3_GENERATOR=true \\\n",
    "  RUN_PROJECT_GENERATOR=true \\\n",
    "  RUN_SQL_GENERATOR=true \\\n",
    "  VARS_PATH=$VARS_PATH \\\n",
    "  mvn exec:java -Dexec.mainClass=$SITE_MAIN_VERTICLE_PACKAGE.MainVerticle)\n",
    "echo DONE"
   ]
  },
  {
   "cell_type": "markdown",
   "id": "3420f465",
   "metadata": {},
   "source": [
    "## Run SQL create scripts with new PostgreSQL tables\n",
    "When we create new Smart Data Models that are persisted in the PostgreSQL database, we need to make sure that our database has all the tables and fields required to persist the data. Run the commands below to rsync the `db-create.sql` script to the PostgreSQL pod. It will connect again and apply all of the database schema changes to the database. "
   ]
  },
  {
   "cell_type": "code",
   "execution_count": null,
   "id": "779ff85c",
   "metadata": {
    "vscode": {
     "languageId": "shellscript"
    }
   },
   "outputs": [],
   "source": [
    "eval $(./vars.py)\n",
    "oc exec pod/postgresql-0 -- mkdir -p /bitnami/postgresql/sql/\n",
    "oc rsync $SITE_SRC/src/main/resources/sql/ \\\n",
    "  pod/postgresql-0:/bitnami/postgresql/sql/\n",
    "oc exec pod/postgresql-0 -- \\\n",
    "  env PGPASSWORD=$(oc get secret/postgres-pguser-$DATABASE_USERNAME -o jsonpath={.data.password} | base64 -d) \\\n",
    "  psql -U $DATABASE_USERNAME -d $DATABASE_DATABASE -f /bitnami/postgresql/sql/db-create.sql\n",
    "echo DONE"
   ]
  },
  {
   "cell_type": "markdown",
   "id": "217cf298",
   "metadata": {},
   "source": [
    "### Update your project MainVerticle.java Vert.x Verticle"
   ]
  },
  {
   "cell_type": "code",
   "execution_count": null,
   "id": "77136939",
   "metadata": {
    "vscode": {
     "languageId": "shellscript"
    }
   },
   "outputs": [],
   "source": [
    "eval $(./vars.py)\n",
    "ansible-playbook -e @$VARS_PATH playbooks/create-file.yaml \\\n",
    "  -e FILE_PATH=\"{{ SITE_SRC }}/src/main/java/{{ SITE_MAIN_VERTICLE_PACKAGE | replace('.', '/') }}/MainVerticle.java\" \\\n",
    "  -e FILE_TEMPLATE=MainVerticle.java\n",
    "echo DONE"
   ]
  },
  {
   "cell_type": "markdown",
   "id": "fe4a7f23",
   "metadata": {},
   "source": [
    "### Update your project WorkerVerticle.java Vert.x Verticle"
   ]
  },
  {
   "cell_type": "code",
   "execution_count": null,
   "id": "01521f70",
   "metadata": {
    "vscode": {
     "languageId": "shellscript"
    }
   },
   "outputs": [],
   "source": [
    "eval $(./vars.py)\n",
    "ansible-playbook -e @$VARS_PATH playbooks/create-file.yaml \\\n",
    "  -e FILE_PATH=\"{{ SITE_SRC }}/src/main/java/{{ SITE_MAIN_VERTICLE_PACKAGE | replace('.', '/') }}/WorkerVerticle.java\" \\\n",
    "  -e FILE_TEMPLATE=WorkerVerticle.java\n",
    "echo DONE"
   ]
  },
  {
   "cell_type": "markdown",
   "id": "216d3967",
   "metadata": {},
   "source": [
    "### Create your project PageLayout.htm Jinja2 HTML template"
   ]
  },
  {
   "cell_type": "code",
   "execution_count": null,
   "id": "3adef3b8",
   "metadata": {
    "vscode": {
     "languageId": "shellscript"
    }
   },
   "outputs": [],
   "source": [
    "eval $(./vars.py)\n",
    "ansible-playbook -e @$VARS_PATH playbooks/create-file.yaml \\\n",
    "  -e FILE_PATH=\"{{ SITE_SRC }}/src/main/resources/templates/en-us/PageLayout.htm\" \\\n",
    "  -e FILE_TEMPLATE=PageLayout.htm\n",
    "echo DONE"
   ]
  },
  {
   "cell_type": "markdown",
   "id": "dd0b3b8b",
   "metadata": {},
   "source": [
    "## Compile your Java project"
   ]
  },
  {
   "cell_type": "code",
   "execution_count": null,
   "id": "d142b901",
   "metadata": {
    "vscode": {
     "languageId": "shellscript"
    }
   },
   "outputs": [],
   "source": [
    "eval $(./vars.py)\n",
    "(cd $SITE_SRC && mvn clean install)\n",
    "echo DONE"
   ]
  },
  {
   "cell_type": "code",
   "execution_count": null,
   "id": "0c56f5f2",
   "metadata": {
    "vscode": {
     "languageId": "shellscript"
    }
   },
   "outputs": [],
   "source": []
  },
  {
   "cell_type": "markdown",
   "id": "d3c4ba5b",
   "metadata": {},
   "source": []
  }
 ],
 "metadata": {
  "kernelspec": {
   "display_name": "Bash",
   "language": "bash",
   "name": "bash"
  },
  "language_info": {
   "codemirror_mode": "shell",
   "file_extension": ".sh",
   "mimetype": "text/x-sh",
   "name": "bash"
  }
 },
 "nbformat": 4,
 "nbformat_minor": 5
}
