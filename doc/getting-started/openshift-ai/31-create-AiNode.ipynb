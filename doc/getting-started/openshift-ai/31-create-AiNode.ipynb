{
 "cells": [
  {
   "cell_type": "markdown",
   "id": "20f6539f",
   "metadata": {},
   "source": [
    "# Create a new Java database and search model class"
   ]
  },
  {
   "cell_type": "markdown",
   "id": "2a80b6c3",
   "metadata": {},
   "source": [
    "Specify the details of your new Java class below. "
   ]
  },
  {
   "cell_type": "code",
   "execution_count": null,
   "id": "a9183b78",
   "metadata": {
    "vscode": {
     "languageId": "shellscript"
    }
   },
   "outputs": [],
   "source": [
    "eval $(./vars.py)\n",
    "CLASS_PACKAGE=$SITE_JAVA_PACKAGE.model.node\n",
    "CLASS_SIMPLE_NAME=AiNode\n",
    "CLASS_A_NAME=\"an AI node\"\n",
    "CLASS_DESCRIPTION=\"A Red Hat OpenShift node containing GPUs\"\n",
    "CLASS_ORDER=5\n",
    "CLASS_ICON='<i class=\"fa-regular fa-computer\"></i>'\n",
    "echo DONE"
   ]
  },
  {
   "cell_type": "markdown",
   "id": "5f096818",
   "metadata": {},
   "source": [
    "## Create a Keycloak auth resource for your model\n"
   ]
  },
  {
   "cell_type": "markdown",
   "id": "dd463045",
   "metadata": {},
   "source": [
    "Create a Keycloak auth Resource for your new model in the site. "
   ]
  },
  {
   "cell_type": "code",
   "execution_count": null,
   "id": "384112ee",
   "metadata": {
    "vscode": {
     "languageId": "shellscript"
    }
   },
   "outputs": [],
   "source": [
    "eval $(./vars.py)\n",
    "\n",
    "ACCESS_TOKEN=$(curl -k -s -X POST -d \"username=admin\" -d \"grant_type=password\" -d \"client_id=admin-cli\" \\\n",
    "  -d \"password=$(oc -n $AUTH_NAMESPACE get secret/keycloak-initial-admin -o jsonpath={.data.admin-password} | base64 -d)\" \\\n",
    "  $AUTH_URL/realms/master/protocol/openid-connect/token | jq -r \".access_token\")\n",
    "\n",
    "curl -k -i -X POST -H \"Content-Type: application/json\" -H \"Authorization: Bearer $ACCESS_TOKEN\" \\\n",
    "  \"$AUTH_URL/admin/realms/$AUTH_REALM/clients/$AUTH_CLIENT/authz/resource-server/resource\" \\\n",
    "  --data '{\"name\":\"'\"$CLASS_SIMPLE_NAME\"'\",\"displayName\":\"'\"$CLASS_SIMPLE_NAME\"'\",\"scopes\":[\"POST\",\"PATCH\",\"GET\",\"'\"$AUTH_SCOPE_ADMIN\"'\",\"'\"$AUTH_SCOPE_SUPER_ADMIN\"'\"]}'\n",
    "\n",
    "echo DONE"
   ]
  },
  {
   "cell_type": "markdown",
   "id": "8dece6e6",
   "metadata": {},
   "source": [
    "## Grant POST, PATCH, GET, SiteAdmin permissions for SiteAdmins to your new model\n"
   ]
  },
  {
   "cell_type": "markdown",
   "id": "af029acf",
   "metadata": {},
   "source": [
    "Create a Keycloak auth Permission for SiteAdmins to use the POST, PATCH, GET and SiteAdmin scopes of your model. "
   ]
  },
  {
   "cell_type": "code",
   "execution_count": null,
   "id": "925c9d14",
   "metadata": {
    "vscode": {
     "languageId": "shellscript"
    }
   },
   "outputs": [],
   "source": [
    "eval $(./vars.py)\n",
    "\n",
    "ACCESS_TOKEN=$(curl -k -s -X POST -d \"username=admin\" -d \"grant_type=password\" -d \"client_id=admin-cli\" \\\n",
    "  -d \"password=$(oc -n $AUTH_NAMESPACE get secret/keycloak-initial-admin -o jsonpath={.data.admin-password} | base64 -d)\" \\\n",
    "  $AUTH_URL/realms/master/protocol/openid-connect/token | jq -r \".access_token\")\n",
    "\n",
    "curl -k -i -X POST -H \"Content-Type: application/json\" -H \"Authorization: Bearer $ACCESS_TOKEN\" \\\n",
    "  \"$AUTH_URL/admin/realms/$AUTH_REALM/clients/$AUTH_CLIENT/authz/resource-server/permission/scope\" \\\n",
    "  --data '{\"name\":\"group-'\"$AUTH_SCOPE_ADMIN\"'-resource-'\"$CLASS_SIMPLE_NAME\"'\"\n",
    "      ,\"decisionStrategy\":\"AFFIRMATIVE\"\n",
    "      ,\"description\":\"'\"$AUTH_SCOPE_ADMIN\"' group access to all '\"$CLASS_SIMPLE_NAME\"'\"\n",
    "      ,\"resources\":[\"'\"$CLASS_SIMPLE_NAME\"'\"]\n",
    "      ,\"policies\":[\"'\"$AUTH_REALM\"'-group-'\"$AUTH_SCOPE_ADMIN\"'\"]\n",
    "      ,\"scopes\":[\"'\"$AUTH_REALM\"'-POST\",\"'\"$AUTH_REALM\"'-PATCH\",\"'\"$AUTH_REALM\"'-GET\",\"'\"$AUTH_REALM\"'-'\"$AUTH_SCOPE_ADMIN\"'\"]\n",
    "      }'\n",
    "\n",
    "echo DONE"
   ]
  },
  {
   "cell_type": "markdown",
   "id": "5b387474",
   "metadata": {},
   "source": [
    "## Grant POST, PATCH, GET, SiteAdmin, SuperAdmin permissions for SuperAdmins to your new model\n"
   ]
  },
  {
   "cell_type": "markdown",
   "id": "8cd8bb9e",
   "metadata": {},
   "source": [
    "Create a Keycloak auth Permission for SuperAdmins to use the POST, PATCH, GET, SiteAdmin, and SuperAdmin scopes of your model. "
   ]
  },
  {
   "cell_type": "code",
   "execution_count": null,
   "id": "42f901de",
   "metadata": {
    "vscode": {
     "languageId": "shellscript"
    }
   },
   "outputs": [],
   "source": [
    "eval $(./vars.py)\n",
    "\n",
    "ACCESS_TOKEN=$(curl -k -s -X POST -d \"username=admin\" -d \"grant_type=password\" -d \"client_id=admin-cli\" \\\n",
    "  -d \"password=$(oc -n $AUTH_NAMESPACE get secret/keycloak-initial-admin -o jsonpath={.data.admin-password} | base64 -d)\" \\\n",
    "  $AUTH_URL/realms/master/protocol/openid-connect/token | jq -r \".access_token\")\n",
    "\n",
    "curl -k -i -X POST -H \"Content-Type: application/json\" -H \"Authorization: Bearer $ACCESS_TOKEN\" \\\n",
    "  \"$AUTH_URL/admin/realms/$AUTH_REALM/clients/$AUTH_CLIENT/authz/resource-server/permission/scope\" \\\n",
    "  --data '{\"name\":\"group-'\"$AUTH_SCOPE_SUPER_ADMIN\"'-resource-'\"$CLASS_SIMPLE_NAME\"'\"\n",
    "      ,\"decisionStrategy\":\"AFFIRMATIVE\"\n",
    "      ,\"description\":\"'\"$AUTH_SCOPE_SUPER_ADMIN\"' group access to all '\"$CLASS_SIMPLE_NAME\"'\"\n",
    "      ,\"resources\":[\"'\"$CLASS_SIMPLE_NAME\"'\"]\n",
    "      ,\"policies\":[\"'\"$AUTH_REALM\"'-group-'\"$AUTH_SCOPE_SUPER_ADMIN\"'\"]\n",
    "      ,\"scopes\":[\"'\"$AUTH_REALM\"'-POST\",\"'\"$AUTH_REALM\"'-PATCH\",\"'\"$AUTH_REALM\"'-GET\",\"'\"$AUTH_REALM\"'-'\"$AUTH_SCOPE_ADMIN\"'\",\"'\"$AUTH_REALM\"'-'\"$AUTH_SCOPE_SUPER_ADMIN\"'\"]\n",
    "      }'\n",
    "\n",
    "echo DONE"
   ]
  },
  {
   "cell_type": "markdown",
   "id": "dd0b3b8b",
   "metadata": {},
   "source": [
    "## Compile your Java project"
   ]
  },
  {
   "cell_type": "code",
   "execution_count": null,
   "id": "d142b901",
   "metadata": {
    "vscode": {
     "languageId": "shellscript"
    }
   },
   "outputs": [],
   "source": [
    "eval $(./vars.py)\n",
    "(cd $SITE_SRC && mvn clean install)\n",
    "echo DONE"
   ]
  },
  {
   "cell_type": "code",
   "execution_count": null,
   "id": "0c56f5f2",
   "metadata": {
    "vscode": {
     "languageId": "shellscript"
    }
   },
   "outputs": [],
   "source": []
  },
  {
   "cell_type": "markdown",
   "id": "d3c4ba5b",
   "metadata": {},
   "source": []
  }
 ],
 "metadata": {
  "kernelspec": {
   "display_name": "Bash",
   "language": "bash",
   "name": "bash"
  },
  "language_info": {
   "codemirror_mode": "shell",
   "file_extension": ".sh",
   "mimetype": "text/x-sh",
   "name": "bash"
  }
 },
 "nbformat": 4,
 "nbformat_minor": 5
}
