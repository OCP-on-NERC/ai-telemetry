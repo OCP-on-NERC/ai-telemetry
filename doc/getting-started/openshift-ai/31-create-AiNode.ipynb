{
 "cells": [
  {
   "cell_type": "markdown",
   "id": "20f6539f",
   "metadata": {},
   "source": [
    "# Create a new Java database and search model class"
   ]
  },
  {
   "cell_type": "markdown",
   "id": "2a80b6c3",
   "metadata": {},
   "source": [
    "Specify the details of your new Java class below. "
   ]
  },
  {
   "cell_type": "code",
   "execution_count": null,
   "id": "a9183b78",
   "metadata": {
    "vscode": {
     "languageId": "shellscript"
    }
   },
   "outputs": [],
   "source": [
    "eval $(./vars.py)\n",
    "CLASS_PACKAGE=$SITE_JAVA_PACKAGE.model.node\n",
    "CLASS_SIMPLE_NAME=AiNode\n",
    "CLASS_A_NAME=\"an AI node\"\n",
    "CLASS_DESCRIPTION=\"A Red Hat OpenShift node containing GPUs\"\n",
    "CLASS_ORDER=5\n",
    "CLASS_ICON='<i class=\"fa-regular fa-computer\"></i>'\n",
    "echo DONE"
   ]
  },
  {
   "cell_type": "code",
   "execution_count": null,
   "id": "c908599c",
   "metadata": {
    "vscode": {
     "languageId": "shellscript"
    }
   },
   "outputs": [],
   "source": [
    "eval $(./vars.py)\n",
    "\n",
    "CLASS_CANONICAL_NAME=\"${CLASS_CANONICAL_NAME:-$(echo $CLASS_PACKAGE.$CLASS_SIMPLE_NAME)}\"\n",
    "PACKAGE_PATH=\"${PACKAGE_PATH:-$SITE_SRC$SUFFIX_SRC_MAIN_JAVA/$(echo $CLASS_PACKAGE | perl -p -e 's/\\./\\//g')}\"\n",
    "CLASS_PATH=\"${CLASS_PATH:-$PACKAGE_PATH/$CLASS_SIMPLE_NAME.java}\"\n",
    "CLASS_A_NAME=\"${CLASS_A_NAME:-a $(echo $CLASS_SIMPLE_NAME | perl -p -e 's/([A-Z])/ $1/g' | sed -z 's/^[[:space:]]*//' | tr '[:upper:]' '[:lower:]')}\"\n",
    "CLASS_SINGULAR_NAME=\"${CLASS_SINGULAR_NAME:-$(echo $CLASS_A_NAME | perl -p -e 's/(^\\w+ )//g')}\"\n",
    "CLASS_PLURAL_NAME=\"${CLASS_PLURAL_NAME:-$(echo ${CLASS_SINGULAR_NAME}s)}\"\n",
    "CLASS_API_TAG=\"${CLASS_API_TAG:-$CLASS_SINGULAR_NAME}\"\n",
    "CLASS_API_URI=\"${CLASS_API_URI:-/api/$(echo $CLASS_SINGULAR_NAME | perl -p -e 's/ /-/g' | tr '[:upper:]' '[:lower:]')}\"\n",
    "CLASS_PAGE_URI=\"${CLASS_PAGE_URI:-/$(echo $CLASS_SINGULAR_NAME | perl -p -e 's/ /-/g' | tr '[:upper:]' '[:lower:]')}\"\n",
    "CLASS_SQL_ORDER=\"${CLASS_SQL_ORDER:-$CLASS_ORDER}\"\n",
    "CLASS_ICON=\"${CLASS_ICON:-}\"\n",
    "\n",
    "\n",
    "echo \"New class canonical name: $CLASS_CANONICAL_NAME\"\n",
    "echo \"New package directory:    $PACKAGE_PATH\"\n",
    "echo \"New class path:           $CLASS_PATH\"\n",
    "echo \"Class a name:             $CLASS_A_NAME\"\n",
    "echo \"Class singular name:      $CLASS_SINGULAR_NAME\"\n",
    "echo \"Class plural name:        $CLASS_PLURAL_NAME\"\n",
    "echo \"Class API tag:            $CLASS_API_TAG\"\n",
    "echo \"Class API URI:            $CLASS_API_URI\"\n",
    "echo \"Class page URI:           $CLASS_PAGE_URI\"\n",
    "echo \"Class order:              $CLASS_ORDER\"\n",
    "echo \"Class SQL order:          $CLASS_SQL_ORDER\"\n",
    "echo \"Class description:        $CLASS_DESCRIPTION\"\n",
    "echo \"CLASS_ICON:               $CLASS_ICON\"\n",
    "echo DONE"
   ]
  },
  {
   "cell_type": "markdown",
   "id": "6b8fa8e2",
   "metadata": {},
   "source": [
    "## Make the Java class package directory"
   ]
  },
  {
   "cell_type": "code",
   "execution_count": null,
   "id": "283cae55",
   "metadata": {
    "vscode": {
     "languageId": "shellscript"
    }
   },
   "outputs": [],
   "source": [
    "mkdir -p $PACKAGE_PATH\n",
    "ls -ld $PACKAGE_PATH\n",
    "echo DONE"
   ]
  },
  {
   "cell_type": "markdown",
   "id": "225bbe41",
   "metadata": {},
   "source": [
    "## Make the Java class file"
   ]
  },
  {
   "cell_type": "code",
   "execution_count": null,
   "id": "4326df0c",
   "metadata": {
    "vscode": {
     "languageId": "shellscript"
    }
   },
   "outputs": [],
   "source": [
    "echo \"Updating $CLASS_PATH\"\n",
    "cat > $CLASS_PATH <<EOF\n",
    "package $CLASS_PACKAGE;\n",
    "\n",
    "import $SITE_BASE_MODEL_PACKAGE.BaseModel;\n",
    "import org.computate.search.wrap.Wrap;\n",
    "import io.vertx.pgclient.data.Point;\n",
    "\n",
    "/**\n",
    " * Order: $CLASS_ORDER\n",
    " * Model: true\n",
    " * SqlOrder: $CLASS_SQL_ORDER\n",
    " * \n",
    " * Api: true\n",
    " * Page: true\n",
    " * SuperPage: BaseModelPage\n",
    " * Indexed: true\n",
    " * Description: $CLASS_DESCRIPTION\n",
    " * \n",
    " * ApiTag: $CLASS_API_TAG\n",
    " * ApiUri: $CLASS_API_URI\n",
    " * \n",
    " * ApiMethod:\n",
    " *   Search:\n",
    " *   GET:\n",
    " *   PATCH:\n",
    " *   POST:\n",
    " *   PUTImport:\n",
    " *   SearchPage:\n",
    " *     Page: ${CLASS_SIMPLE_NAME}Page\n",
    " *     ApiUri: ${CLASS_PAGE_URI}\n",
    " * \n",
    " * Role: SiteAdmin\n",
    " * \n",
    " * AName: $CLASS_A_NAME\n",
    " * PluralName: $CLASS_PLURAL_NAME\n",
    " * Icon: $CLASS_ICON\n",
    " */\n",
    "public class $CLASS_SIMPLE_NAME extends ${CLASS_SIMPLE_NAME}Gen<BaseModel> {\n",
    "\n",
    "  /**\n",
    "   * {@inheritDoc}\n",
    "   * DocValues: true\n",
    "   * Persist: true\n",
    "   * DisplayName: $CLASS_SINGULAR_NAME name\n",
    "   * Description: The $CLASS_SINGULAR_NAME name. \n",
    "   * HtmRow: 3\n",
    "   * HtmCell: 1\n",
    "   * Facet: true\n",
    "   */\n",
    "  protected void _name(Wrap<String> w) {\n",
    "  }\n",
    "}\n",
    "EOF\n",
    "echo DONE"
   ]
  },
  {
   "cell_type": "code",
   "execution_count": null,
   "id": "a4cbadec",
   "metadata": {
    "vscode": {
     "languageId": "shellscript"
    }
   },
   "outputs": [],
   "source": [
    "echo \"Updating $CLASS_PATH\"\n",
    "perl -p -e 's/^(\\})$\\s*\\Z/\n",
    "  protected void _stuff(Wrap<String> w) {\n",
    "  }\n",
    "${1}/g' -i $CLASS_PATH\n",
    "echo DONE"
   ]
  },
  {
   "cell_type": "markdown",
   "id": "8a2a4437",
   "metadata": {},
   "source": [
    "## Rebuild the project OpenAPI spec, database scripts, and more\n",
    "\n",
    "A running web application is made up of much more than Java code. \n",
    "\n",
    "- A data-driven website is also made up of CSS Stylesheets and Java Script. Each model has it's own set of specific JavaScript specific to it's fields and APIs. \n",
    "\n",
    "- An OpenAPI Spec is generated to map out all the APIs and pages in the site for system integrators to consume or update data in the site. \n",
    "\n",
    "- A database schema is also generated for storing all model data with specific field values, tables, and foreign key relations. \n",
    "\n",
    "Run the command below to generate all of the code listed above. "
   ]
  },
  {
   "cell_type": "markdown",
   "id": "7715335b",
   "metadata": {},
   "source": [
    "Run the `index.sh` shell script of the `computate` project on  the  `smartvillage-platform` project to index all of the `smartvillage-platform` Java classes into the Apache Solr search engine. "
   ]
  },
  {
   "cell_type": "code",
   "execution_count": null,
   "id": "7831de89",
   "metadata": {
    "vscode": {
     "languageId": "shellscript"
    }
   },
   "outputs": [],
   "source": [
    "eval $(./vars.py)\n",
    "(cd $SITE_SRC && env \\\n",
    "  RUN_ARTICLE_GENERATOR=true \\\n",
    "  RUN_FIWARE_GENERATOR=true \\\n",
    "  RUN_OPENAPI3_GENERATOR=true \\\n",
    "  RUN_PROJECT_GENERATOR=true \\\n",
    "  RUN_SQL_GENERATOR=true \\\n",
    "  VARS_PATH=$VARS_PATH \\\n",
    "  mvn exec:java -Dexec.mainClass=$SITE_MAIN_VERTICLE_PACKAGE.MainVerticle)\n",
    "echo DONE"
   ]
  },
  {
   "cell_type": "markdown",
   "id": "3420f465",
   "metadata": {},
   "source": [
    "## Run SQL create scripts with new PostgreSQL tables\n",
    "When we create new Smart Data Models that are persisted in the PostgreSQL database, we need to make sure that our database has all the tables and fields required to persist the data. Run the commands below to rsync the `db-create.sql` script to the PostgreSQL pod. It will connect again and apply all of the database schema changes to the database. "
   ]
  },
  {
   "cell_type": "code",
   "execution_count": null,
   "id": "779ff85c",
   "metadata": {
    "vscode": {
     "languageId": "shellscript"
    }
   },
   "outputs": [],
   "source": [
    "eval $(./vars.py)\n",
    "oc -n postgres exec pod/postgresql-0 -- mkdir -p /bitnami/postgresql/sql/\n",
    "oc -n postgres rsync $SITE_SRC/src/main/resources/sql/ \\\n",
    "  pod/postgresql-0:/bitnami/postgresql/sql/\n",
    "oc -n postgres exec pod/postgresql-0 -- \\\n",
    "  env PGPASSWORD=$(oc -n $SITE_NAMESPACE get secret/postgres-pguser-$DATABASE_USERNAME -o jsonpath={.data.password} | base64 -d) \\\n",
    "  psql -U $DATABASE_USERNAME -d $DATABASE_DATABASE -f /bitnami/postgresql/sql/db-create.sql\n",
    "echo DONE"
   ]
  },
  {
   "cell_type": "markdown",
   "id": "217cf298",
   "metadata": {},
   "source": [
    "### Update your project MainVerticle.java Vert.x Verticle"
   ]
  },
  {
   "cell_type": "code",
   "execution_count": null,
   "id": "77136939",
   "metadata": {
    "vscode": {
     "languageId": "shellscript"
    }
   },
   "outputs": [],
   "source": [
    "eval $(./vars.py)\n",
    "ansible-playbook -e @$VARS_PATH playbooks/create-file.yaml \\\n",
    "  -e FILE_PATH=\"{{ SITE_SRC }}/src/main/java/{{ SITE_MAIN_VERTICLE_PACKAGE | replace('.', '/') }}/MainVerticle.java\" \\\n",
    "  -e FILE_TEMPLATE=MainVerticle.java\n",
    "echo DONE"
   ]
  },
  {
   "cell_type": "markdown",
   "id": "216d3967",
   "metadata": {},
   "source": [
    "### Create your project PageLayout.htm Jinja2 HTML template"
   ]
  },
  {
   "cell_type": "code",
   "execution_count": null,
   "id": "3adef3b8",
   "metadata": {
    "vscode": {
     "languageId": "shellscript"
    }
   },
   "outputs": [],
   "source": [
    "eval $(./vars.py)\n",
    "ansible-playbook -e @$VARS_PATH playbooks/create-file.yaml \\\n",
    "  -e FILE_PATH=\"{{ SITE_SRC }}/src/main/resources/templates/en-us/PageLayout.htm\" \\\n",
    "  -e FILE_TEMPLATE=PageLayout.htm\n",
    "echo DONE"
   ]
  },
  {
   "cell_type": "markdown",
   "id": "5f096818",
   "metadata": {},
   "source": [
    "## Create a Keycloak auth resource for your model\n"
   ]
  },
  {
   "cell_type": "markdown",
   "id": "dd463045",
   "metadata": {},
   "source": [
    "Create a Keycloak auth Resource for your new model in the site. "
   ]
  },
  {
   "cell_type": "code",
   "execution_count": null,
   "id": "384112ee",
   "metadata": {
    "vscode": {
     "languageId": "shellscript"
    }
   },
   "outputs": [],
   "source": [
    "eval $(./vars.py)\n",
    "\n",
    "ACCESS_TOKEN=$(curl -k -s -X POST -d \"username=admin\" -d \"grant_type=password\" -d \"client_id=admin-cli\" \\\n",
    "  -d \"password=$(oc -n $AUTH_NAMESPACE get secret/keycloak-initial-admin -o jsonpath={.data.admin-password} | base64 -d)\" \\\n",
    "  $AUTH_URL/realms/master/protocol/openid-connect/token | jq -r \".access_token\")\n",
    "\n",
    "curl -k -i -X POST -H \"Content-Type: application/json\" -H \"Authorization: Bearer $ACCESS_TOKEN\" \\\n",
    "  \"$AUTH_URL/admin/realms/$AUTH_REALM/clients/$AUTH_CLIENT/authz/resource-server/resource\" \\\n",
    "  --data '{\"name\":\"'\"$CLASS_SIMPLE_NAME\"'\",\"displayName\":\"'\"$CLASS_SIMPLE_NAME\"'\",\"scopes\":[\"POST\",\"PATCH\",\"GET\",\"'\"$AUTH_SCOPE_ADMIN\"'\",\"'\"$AUTH_SCOPE_SUPER_ADMIN\"'\"]}'\n",
    "\n",
    "echo DONE"
   ]
  },
  {
   "cell_type": "markdown",
   "id": "8dece6e6",
   "metadata": {},
   "source": [
    "## Grant POST, PATCH, GET, SiteAdmin permissions for SiteAdmins to your new model\n"
   ]
  },
  {
   "cell_type": "markdown",
   "id": "af029acf",
   "metadata": {},
   "source": [
    "Create a Keycloak auth Permission for SiteAdmins to use the POST, PATCH, GET and SiteAdmin scopes of your model. "
   ]
  },
  {
   "cell_type": "code",
   "execution_count": null,
   "id": "925c9d14",
   "metadata": {
    "vscode": {
     "languageId": "shellscript"
    }
   },
   "outputs": [],
   "source": [
    "eval $(./vars.py)\n",
    "\n",
    "ACCESS_TOKEN=$(curl -k -s -X POST -d \"username=admin\" -d \"grant_type=password\" -d \"client_id=admin-cli\" \\\n",
    "  -d \"password=$(oc -n $AUTH_NAMESPACE get secret/keycloak-initial-admin -o jsonpath={.data.admin-password} | base64 -d)\" \\\n",
    "  $AUTH_URL/realms/master/protocol/openid-connect/token | jq -r \".access_token\")\n",
    "\n",
    "curl -k -i -X POST -H \"Content-Type: application/json\" -H \"Authorization: Bearer $ACCESS_TOKEN\" \\\n",
    "  \"$AUTH_URL/admin/realms/$AUTH_REALM/clients/$AUTH_CLIENT/authz/resource-server/permission/scope\" \\\n",
    "  --data '{\"name\":\"group-'\"$AUTH_SCOPE_ADMIN\"'-resource-'\"$CLASS_SIMPLE_NAME\"'\"\n",
    "      ,\"decisionStrategy\":\"AFFIRMATIVE\"\n",
    "      ,\"description\":\"'\"$AUTH_SCOPE_ADMIN\"' group access to all '\"$CLASS_SIMPLE_NAME\"'\"\n",
    "      ,\"resources\":[\"'\"$CLASS_SIMPLE_NAME\"'\"]\n",
    "      ,\"policies\":[\"'\"$AUTH_REALM\"'-group-'\"$AUTH_SCOPE_ADMIN\"'\"]\n",
    "      ,\"scopes\":[\"'\"$AUTH_REALM\"'-POST\",\"'\"$AUTH_REALM\"'-PATCH\",\"'\"$AUTH_REALM\"'-GET\",\"'\"$AUTH_REALM\"'-'\"$AUTH_SCOPE_ADMIN\"'\"]\n",
    "      }'\n",
    "\n",
    "echo DONE"
   ]
  },
  {
   "cell_type": "markdown",
   "id": "5b387474",
   "metadata": {},
   "source": [
    "## Grant POST, PATCH, GET, SiteAdmin, SuperAdmin permissions for SuperAdmins to your new model\n"
   ]
  },
  {
   "cell_type": "markdown",
   "id": "8cd8bb9e",
   "metadata": {},
   "source": [
    "Create a Keycloak auth Permission for SuperAdmins to use the POST, PATCH, GET, SiteAdmin, and SuperAdmin scopes of your model. "
   ]
  },
  {
   "cell_type": "code",
   "execution_count": null,
   "id": "42f901de",
   "metadata": {
    "vscode": {
     "languageId": "shellscript"
    }
   },
   "outputs": [],
   "source": [
    "eval $(./vars.py)\n",
    "\n",
    "ACCESS_TOKEN=$(curl -k -s -X POST -d \"username=admin\" -d \"grant_type=password\" -d \"client_id=admin-cli\" \\\n",
    "  -d \"password=$(oc -n $AUTH_NAMESPACE get secret/keycloak-initial-admin -o jsonpath={.data.admin-password} | base64 -d)\" \\\n",
    "  $AUTH_URL/realms/master/protocol/openid-connect/token | jq -r \".access_token\")\n",
    "\n",
    "curl -k -i -X POST -H \"Content-Type: application/json\" -H \"Authorization: Bearer $ACCESS_TOKEN\" \\\n",
    "  \"$AUTH_URL/admin/realms/$AUTH_REALM/clients/$AUTH_CLIENT/authz/resource-server/permission/scope\" \\\n",
    "  --data '{\"name\":\"group-'\"$AUTH_SCOPE_SUPER_ADMIN\"'-resource-'\"$CLASS_SIMPLE_NAME\"'\"\n",
    "      ,\"decisionStrategy\":\"AFFIRMATIVE\"\n",
    "      ,\"description\":\"'\"$AUTH_SCOPE_SUPER_ADMIN\"' group access to all '\"$CLASS_SIMPLE_NAME\"'\"\n",
    "      ,\"resources\":[\"'\"$CLASS_SIMPLE_NAME\"'\"]\n",
    "      ,\"policies\":[\"'\"$AUTH_REALM\"'-group-'\"$AUTH_SCOPE_SUPER_ADMIN\"'\"]\n",
    "      ,\"scopes\":[\"'\"$AUTH_REALM\"'-POST\",\"'\"$AUTH_REALM\"'-PATCH\",\"'\"$AUTH_REALM\"'-GET\",\"'\"$AUTH_REALM\"'-'\"$AUTH_SCOPE_ADMIN\"'\",\"'\"$AUTH_REALM\"'-'\"$AUTH_SCOPE_SUPER_ADMIN\"'\"]\n",
    "      }'\n",
    "\n",
    "echo DONE"
   ]
  },
  {
   "cell_type": "markdown",
   "id": "dd0b3b8b",
   "metadata": {},
   "source": [
    "## Compile your Java project"
   ]
  },
  {
   "cell_type": "code",
   "execution_count": null,
   "id": "d142b901",
   "metadata": {
    "vscode": {
     "languageId": "shellscript"
    }
   },
   "outputs": [],
   "source": [
    "eval $(./vars.py)\n",
    "(cd $SITE_SRC && mvn clean install)\n",
    "echo DONE"
   ]
  },
  {
   "cell_type": "code",
   "execution_count": null,
   "id": "0c56f5f2",
   "metadata": {
    "vscode": {
     "languageId": "shellscript"
    }
   },
   "outputs": [],
   "source": []
  },
  {
   "cell_type": "markdown",
   "id": "d3c4ba5b",
   "metadata": {},
   "source": []
  }
 ],
 "metadata": {
  "kernelspec": {
   "display_name": "Bash",
   "language": "bash",
   "name": "bash"
  },
  "language_info": {
   "codemirror_mode": "shell",
   "file_extension": ".sh",
   "mimetype": "text/x-sh",
   "name": "bash"
  }
 },
 "nbformat": 4,
 "nbformat_minor": 5
}
