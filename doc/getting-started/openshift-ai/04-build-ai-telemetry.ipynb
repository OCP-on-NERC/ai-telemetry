{
 "cells": [
  {
   "cell_type": "markdown",
   "metadata": {},
   "source": [
    "# Computate Smart Cloud Builder\n",
    "\n",
    "## About the open source GPL3 license and copyright for this product\n",
    "\n",
    "Copyright © 2024 Computate Limited Liability Company in Utah, USA\n",
    "\n",
    "This program is free software: you can redistribute it and/or modify\n",
    "it under the terms of the GNU General Public License as published by\n",
    "the Free Software Foundation, either version 3 of the License, or\n",
    "(at your option) any later version.\n",
    "\n",
    "This program is distributed in the hope that it will be useful,\n",
    "but WITHOUT ANY WARRANTY; without even the implied warranty of\n",
    "MERCHANTABILITY or FITNESS FOR A PARTICULAR PURPOSE.  See the\n",
    "GNU General Public License for more details.\n",
    "\n",
    "You should have received a copy of the GNU General Public License\n",
    "along with this program.  If not, see <https://www.gnu.org/licenses/>.\n",
    "\n",
    "ADDITIONAL TERMS\n",
    "\n",
    "As stated in section 7. c) and e) of the GPL3 license, \n",
    "\"you may supplement the terms of this License with terms,\" \n",
    "Computate has added the following additional terms to the license: \n",
    "\n",
    "  7 c) Prohibiting misrepresentation of the origin of that material, and\n",
    "    requiring that modified versions of such material be marked in\n",
    "    reasonable ways as different from the original version;\n",
    "\n",
    "  7 e) Declining to grant rights under trademark law for use of some\n",
    "    trade names, trademarks, or service marks;\n",
    "\n",
    "Please do not redistribute this course until you have built your own platform with these tools, \n",
    "separate from the computate.org platform, and reconfigure your fork of this repo to deploy \n",
    "your own platform instead of the computate.org platform. \n",
    "\n",
    "QUESTIONS\n",
    "\n",
    "For questions about this open source license, please contact our public mailing list at computate@group.computate.org\n"
   ]
  },
  {
   "cell_type": "markdown",
   "metadata": {},
   "source": [
    "# Create your project"
   ]
  },
  {
   "cell_type": "markdown",
   "metadata": {},
   "source": [
    "## Watch your project for code changes\n"
   ]
  },
  {
   "cell_type": "markdown",
   "metadata": {},
   "source": [
    "Run the Ansible Playbook to configure and compile the your project. \n",
    "This will index all of your project's Java classes into the Apache Solr search engine. "
   ]
  },
  {
   "cell_type": "code",
   "execution_count": null,
   "metadata": {
    "vscode": {
     "languageId": "shellscript"
    }
   },
   "outputs": [],
   "source": [
    "eval $(./vars.py)\n",
    "ansible-playbook -e @$VARS_PATH playbooks/computate-project.yaml \\\n",
    "  -e SYSTEMD_ENABLED=false \\\n",
    "  -e SITE_NAME=$SITE_NAME \\\n",
    "  -e SITE_PREFIX=\"$SITE_PREFIX\" \\\n",
    "  -e SOLR_HOST_NAME=\"$SOLR_HOST_NAME\" \\\n",
    "  -e SOLR_PORT=\"$SOLR_PORT\" \\\n",
    "  -e SOLR_SSL=\"$SOLR_SSL\" \\\n",
    "  -e SOLR_URL=\"$SOLR_URL_COMPUTATE\" \\\n",
    "  -e SOLR_URL_COMPUTATE=\"$SOLR_URL_COMPUTATE\"\n",
    "echo DONE"
   ]
  },
  {
   "cell_type": "markdown",
   "metadata": {},
   "source": [
    "## Index all Java Classes in search engine, and generate more code at the same time\n",
    "\n",
    "Next we will use the `computate` project with the  `ai-telemetry` project to index all of the `ai-telemetry` Java classes into the Apache Solr search engine. \n",
    "It will also generate additional necessary Java classes along the way, because the computate project writes lots of code for you. \n",
    "Be patient during this part, it's generating hundreds of thousands of lines of code. \n",
    "It should take about 4 minutes. "
   ]
  },
  {
   "cell_type": "code",
   "execution_count": null,
   "metadata": {
    "vscode": {
     "languageId": "shellscript"
    }
   },
   "outputs": [],
   "source": [
    "./generate.sh\n",
    "echo DONE"
   ]
  },
  {
   "cell_type": "markdown",
   "metadata": {},
   "source": [
    "Now query the Solr search engine to find out how many Java classes, constructors, methods, fields, and generated fields are found in the  `ai-telemetry` project. "
   ]
  },
  {
   "cell_type": "code",
   "execution_count": null,
   "metadata": {
    "vscode": {
     "languageId": "shellscript"
    }
   },
   "outputs": [],
   "source": [
    "eval $(./vars.py)\n",
    "curl -s -u \"$SOLR_USERNAME:$SOLR_PASSWORD\" \"$SOLR_URL_COMPUTATE/query?rows=0&fq=siteNom_indexed_string:$SITE_NAME\" -d \\\n",
    "  '{\n",
    "    \"query\": \"*:*\"\n",
    "    , \"facet\": {\n",
    "      \"classes\" : { \"type\": \"terms\", \"field\": \"classeNomSimple_enUS_indexed_string\", \"numBuckets\": true, \"limit\": 5 }\n",
    "      , \"constructors\" : { \"type\": \"terms\", \"field\": \"partEstConstructeur_indexed_boolean\" }\n",
    "      , \"methods\" : { \"type\": \"terms\", \"field\": \"partEstMethode_indexed_boolean\" }\n",
    "      , \"methodNames\" : { \"type\": \"terms\", \"field\": \"methodeVar_enUS_indexed_string\", \"numBuckets\": true, \"limit\": 5 }\n",
    "      , \"fields\" : { \"type\": \"terms\", \"field\": \"partEstChamp_indexed_boolean\" }\n",
    "      , \"fieldNames\" : { \"type\": \"terms\", \"field\": \"champVar_enUS_indexed_string\", \"numBuckets\": true, \"limit\": 5 }\n",
    "      , \"generatedFields\" : { \"type\": \"terms\", \"field\": \"partEstEntite_indexed_boolean\" }\n",
    "      , \"generatedFieldNames\" : { \"type\": \"terms\", \"field\": \"entiteVar_enUS_indexed_string\", \"numBuckets\": true, \"limit\": 5 }\n",
    "    }\n",
    "  }' | jq -r '\"\\(.facets.classes.numBuckets) Java classes (for example \\(.facets.classes.buckets | map(.val) | join(\", \")))\n",
    "\\(.facets.constructors.buckets[0].count) constructors\n",
    "\\(.facets.methods.buckets[0].count) methods (for example \\(.facets.methodNames.buckets | map(.val) | join(\", \")))\n",
    "\\(.facets.fields.buckets[0].count) fields (for example \\(.facets.fieldNames.buckets | map(.val) | join(\", \")))\n",
    "\\(.facets.generatedFields.buckets[0].count) new generated fields (for example \\(.facets.generatedFieldNames.buckets | map(.val) | join(\", \")))\"'\n",
    "echo DONE"
   ]
  },
  {
   "cell_type": "markdown",
   "metadata": {},
   "source": [
    "## Run SQL create scripts with new PostgreSQL tables\n",
    "When we create new Smart Data Models that are persisted in the PostgreSQL database, we need to make sure that our database has all the tables and fields required to persist the data. Run the commands below to rsync the `db-create.sql` script to the PostgreSQL pod. It will connect again and apply all of the database schema changes to the database. "
   ]
  },
  {
   "cell_type": "code",
   "execution_count": null,
   "metadata": {
    "vscode": {
     "languageId": "shellscript"
    }
   },
   "outputs": [],
   "source": [
    "eval $(./vars.py)\n",
    "oc exec pod/postgresql-0 -- mkdir -p /bitnami/postgresql/sql/\n",
    "oc rsync $SITE_SRC/src/main/resources/sql/ \\\n",
    "  pod/postgresql-0:/bitnami/postgresql/sql/\n",
    "oc exec pod/postgresql-0 -- \\\n",
    "  env PGPASSWORD=$(oc -n $SITE_NAMESPACE get secret/postgres-pguser-$DATABASE_USERNAME -o jsonpath={.data.password} | base64 -d) \\\n",
    "  psql -U $DATABASE_USERNAME -d $DATABASE_DATABASE -f /bitnami/postgresql/sql/db-create.sql\n",
    "echo DONE"
   ]
  },
  {
   "cell_type": "markdown",
   "metadata": {},
   "source": [
    "## Compile your Java project"
   ]
  },
  {
   "cell_type": "code",
   "execution_count": null,
   "metadata": {
    "vscode": {
     "languageId": "shellscript"
    }
   },
   "outputs": [],
   "source": [
    "eval $(./vars.py)\n",
    "(cd $SITE_SRC && mvn clean install)\n",
    "echo DONE"
   ]
  },
  {
   "cell_type": "markdown",
   "metadata": {},
   "source": [
    "## Run your Java project"
   ]
  },
  {
   "cell_type": "markdown",
   "metadata": {},
   "source": [
    "To run and debug the project in VSCode in your workbench, create a `.vscode` directory inside of your home directory. "
   ]
  },
  {
   "cell_type": "code",
   "execution_count": null,
   "metadata": {
    "vscode": {
     "languageId": "shellscript"
    }
   },
   "outputs": [],
   "source": [
    "mkdir $HOME/.vscode/\n",
    "ls -ld $HOME/.vscode/\n",
    "echo DONE"
   ]
  },
  {
   "cell_type": "markdown",
   "metadata": {},
   "source": [
    "Create a `launch.json` file inside of the `.vscode directory`. "
   ]
  },
  {
   "cell_type": "code",
   "execution_count": null,
   "metadata": {
    "vscode": {
     "languageId": "shellscript"
    }
   },
   "outputs": [],
   "source": [
    "cat > $HOME/.vscode/launch.json <<EOF\n",
    "{\n",
    "  \"version\": \"0.2.0\",\n",
    "  \"configurations\": [\n",
    "    {\n",
    "      \"type\": \"java\",\n",
    "      \"name\": \"MainVerticle\",\n",
    "      \"request\": \"launch\",\n",
    "      \"mainClass\": \"org.mghpcc.aitelemetry.verticle.MainVerticle\",\n",
    "      \"projectName\": \"aitelemetry\"\n",
    "      , \"env\": {\n",
    "        \"VARS_PATH\": \"/opt/app-root/src/ai-telemetry/doc/getting-started/openshift-ai/vars.yaml\"\n",
    "      }\n",
    "    }\n",
    "  ]\n",
    "}\n",
    "EOF"
   ]
  },
  {
   "cell_type": "markdown",
   "metadata": {},
   "source": [
    "To run and debug the project: \n",
    "\n",
    "- You will need to first install the `Debugger for Java` in the extension VSCode menu on the left. \n",
    "- Now you can run the project from the `Run and Debug` menu of VSCode on the left. "
   ]
  },
  {
   "cell_type": "markdown",
   "metadata": {},
   "source": [
    "Optionally, you can run the command below in a terminal. "
   ]
  },
  {
   "cell_type": "raw",
   "metadata": {
    "vscode": {
     "languageId": "shellscript"
    }
   },
   "source": [
    "(cd ~/ai-telemetry/doc/getting-started/openshift-ai/ \\\n",
    "  && eval $(./vars.py) \\\n",
    "  && cd $SITE_SRC \\\n",
    "  && env VARS_PATH=$VARS_PATH mvn exec:java -Dexec.mainClass=$SITE_MAIN_VERTICLE_PACKAGE.MainVerticle)"
   ]
  },
  {
   "cell_type": "markdown",
   "metadata": {},
   "source": [
    "## Create kustomize resources to expose your site in development\n",
    "Create a directory inside of the project to store your kustomize resources for development. "
   ]
  },
  {
   "cell_type": "code",
   "execution_count": null,
   "metadata": {
    "vscode": {
     "languageId": "shellscript"
    }
   },
   "outputs": [],
   "source": [
    "eval $(./vars.py)\n",
    "mkdir $SITE_SRC/kustomize/overlays/$OPENSHIFT_AI_WORKBENCH/$SITE_NAME/\n",
    "ls -ld $SITE_SRC/kustomize/overlays/$OPENSHIFT_AI_WORKBENCH/$SITE_NAME/\n",
    "echo DONE"
   ]
  },
  {
   "cell_type": "markdown",
   "metadata": {},
   "source": [
    "## Create a kustomization.yaml file"
   ]
  },
  {
   "cell_type": "code",
   "execution_count": null,
   "metadata": {
    "vscode": {
     "languageId": "shellscript"
    }
   },
   "outputs": [],
   "source": [
    "eval $(./vars.py)\n",
    "cat > $SITE_SRC/kustomize/overlays/$OPENSHIFT_AI_WORKBENCH/$SITE_NAME/kustomization.yaml <<EOF\n",
    "apiVersion: kustomize.config.k8s.io/v1beta1\n",
    "kind: Kustomization\n",
    "resources:\n",
    "- service.yaml\n",
    "- route.yaml\n",
    "- networkpolicy.yaml\n",
    "EOF\n",
    "echo DONE"
   ]
  },
  {
   "cell_type": "markdown",
   "metadata": {},
   "source": [
    "## Expose a route to your development site"
   ]
  },
  {
   "cell_type": "markdown",
   "metadata": {},
   "source": [
    "Create a route to your VSCode workbench to expose your development site. "
   ]
  },
  {
   "cell_type": "code",
   "execution_count": null,
   "metadata": {
    "vscode": {
     "languageId": "shellscript"
    }
   },
   "outputs": [],
   "source": [
    "eval $(./vars.py)\n",
    "cat > $SITE_SRC/kustomize/overlays/$OPENSHIFT_AI_WORKBENCH/$SITE_NAME/route.yaml <<EOF\n",
    "kind: Route\n",
    "apiVersion: route.openshift.io/v1\n",
    "metadata:\n",
    "  name: vscode-$OPENSHIFT_AI_WORKBENCH\n",
    "  labels:\n",
    "    notebook-name: $OPENSHIFT_AI_WORKBENCH\n",
    "spec:\n",
    "  host: $OPENSHIFT_AI_WORKBENCH-ai-telemetry.apps.shift.nerc.mghpcc.org\n",
    "  to:\n",
    "    kind: Service\n",
    "    name: vscode-$OPENSHIFT_AI_WORKBENCH\n",
    "    weight: 100\n",
    "  port:\n",
    "    targetPort: 10210\n",
    "  tls:\n",
    "    termination: edge\n",
    "  wildcardPolicy: None\n",
    "EOF\n",
    "echo DONE"
   ]
  },
  {
   "cell_type": "markdown",
   "metadata": {},
   "source": [
    "## Expose a network policy to your development site"
   ]
  },
  {
   "cell_type": "markdown",
   "metadata": {},
   "source": [
    "Create a network policy to your VSCode workbench to expose your development site. "
   ]
  },
  {
   "cell_type": "code",
   "execution_count": null,
   "metadata": {
    "vscode": {
     "languageId": "shellscript"
    }
   },
   "outputs": [],
   "source": [
    "eval $(./vars.py)\n",
    "cat > $SITE_SRC/kustomize/overlays/$OPENSHIFT_AI_WORKBENCH/$SITE_NAME/networkpolicy.yaml <<EOF\n",
    "kind: NetworkPolicy\n",
    "apiVersion: networking.k8s.io/v1\n",
    "metadata:\n",
    "  name: vscode-$OPENSHIFT_AI_WORKBENCH\n",
    "spec:\n",
    "  podSelector:\n",
    "    matchLabels:\n",
    "      notebook-name: $OPENSHIFT_AI_WORKBENCH\n",
    "  ingress:\n",
    "    - ports:\n",
    "        - protocol: TCP\n",
    "          port: 10210\n",
    "  policyTypes:\n",
    "    - Ingress\n",
    "EOF\n",
    "echo DONE"
   ]
  },
  {
   "cell_type": "markdown",
   "metadata": {},
   "source": [
    "## Expose a service to your development site"
   ]
  },
  {
   "cell_type": "markdown",
   "metadata": {},
   "source": [
    "Create a service to your VSCode workbench to expose your development site. "
   ]
  },
  {
   "cell_type": "code",
   "execution_count": null,
   "metadata": {
    "vscode": {
     "languageId": "shellscript"
    }
   },
   "outputs": [],
   "source": [
    "eval $(./vars.py)\n",
    "cat > $SITE_SRC/kustomize/overlays/$OPENSHIFT_AI_WORKBENCH/$SITE_NAME/service.yaml <<EOF\n",
    "kind: Service\n",
    "apiVersion: v1\n",
    "metadata:\n",
    "  name: vscode-$OPENSHIFT_AI_WORKBENCH\n",
    "spec:\n",
    "  ipFamilies:\n",
    "    - IPv4\n",
    "  ports:\n",
    "    - name: dev\n",
    "      protocol: TCP\n",
    "      port: 10210\n",
    "      targetPort: 10210\n",
    "  internalTrafficPolicy: Cluster\n",
    "  type: ClusterIP\n",
    "  ipFamilyPolicy: SingleStack\n",
    "  sessionAffinity: None\n",
    "  selector:\n",
    "    notebook-name: $OPENSHIFT_AI_WORKBENCH\n",
    "EOF\n",
    "echo DONE"
   ]
  },
  {
   "cell_type": "markdown",
   "metadata": {},
   "source": [
    "## Deploy your new kustomize resources for development"
   ]
  },
  {
   "cell_type": "code",
   "execution_count": null,
   "metadata": {
    "vscode": {
     "languageId": "shellscript"
    }
   },
   "outputs": [],
   "source": [
    "eval $(./vars.py)\n",
    "oc apply -k $SITE_SRC/kustomize/overlays/$OPENSHIFT_AI_WORKBENCH/$SITE_NAME/\n",
    "echo DONE"
   ]
  },
  {
   "cell_type": "markdown",
   "metadata": {},
   "source": []
  }
 ],
 "metadata": {
  "kernelspec": {
   "display_name": "Bash",
   "language": "bash",
   "name": "bash"
  },
  "language_info": {
   "codemirror_mode": "shell",
   "file_extension": ".sh",
   "mimetype": "text/x-sh",
   "name": "bash"
  }
 },
 "nbformat": 4,
 "nbformat_minor": 2
}
