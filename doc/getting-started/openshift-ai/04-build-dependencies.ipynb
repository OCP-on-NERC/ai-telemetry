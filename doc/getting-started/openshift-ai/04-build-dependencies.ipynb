{
 "cells": [
  {
   "cell_type": "markdown",
   "id": "df4787de",
   "metadata": {},
   "source": [
    "# Computate Smart Cloud Builder\n",
    "\n",
    "## About the open source GPL3 license and copyright for this product\n",
    "\n",
    "Copyright © 2024 Computate Limited Liability Company in Utah, USA\n",
    "\n",
    "This program is free software: you can redistribute it and/or modify\n",
    "it under the terms of the GNU General Public License as published by\n",
    "the Free Software Foundation, either version 3 of the License, or\n",
    "(at your option) any later version.\n",
    "\n",
    "This program is distributed in the hope that it will be useful,\n",
    "but WITHOUT ANY WARRANTY; without even the implied warranty of\n",
    "MERCHANTABILITY or FITNESS FOR A PARTICULAR PURPOSE.  See the\n",
    "GNU General Public License for more details.\n",
    "\n",
    "You should have received a copy of the GNU General Public License\n",
    "along with this program.  If not, see <https://www.gnu.org/licenses/>.\n",
    "\n",
    "ADDITIONAL TERMS\n",
    "\n",
    "As stated in section 7. c) and e) of the GPL3 license, \n",
    "\"you may supplement the terms of this License with terms,\" \n",
    "Computate has added the following additional terms to the license: \n",
    "\n",
    "  7 c) Prohibiting misrepresentation of the origin of that material, and\n",
    "    requiring that modified versions of such material be marked in\n",
    "    reasonable ways as different from the original version;\n",
    "\n",
    "  7 e) Declining to grant rights under trademark law for use of some\n",
    "    trade names, trademarks, or service marks;\n",
    "\n",
    "Please do not redistribute this course until you have built your own platform with these tools, \n",
    "separate from the computate.org platform, and reconfigure your fork of this repo to deploy \n",
    "your own platform instead of the computate.org platform. \n",
    "\n",
    "QUESTIONS\n",
    "\n",
    "For questions about this open source license, please contact our public mailing list at computate@group.computate.org\n"
   ]
  },
  {
   "cell_type": "markdown",
   "id": "fb657b93-d1e1-4bc5-8b8f-25bd212beb85",
   "metadata": {},
   "source": [
    "# Load the code search model into the Solr search engine\n",
    "\n",
    "In this hackathon, we will be generating code with AI/ML provided by the well established [computate project](https://github.com/computate-org/computate). We will automatically generate OpenAPI specs, database table schemas, Java POJOs, Vert.x Reactive Java APIs, Handlebars HTML page templates, JavaScript page and API functions, NGSI-LD Context data, OpenShift Custom Resource Definitions, and Ansible Operator roles and playbooks for any of the hundreds of open source Edge device data related [FIWARE Smart Data Models available here](https://github.com/smart-data-models). \n",
    "\n",
    "## Prerequisites\n",
    "To run the AI/ML code generation, you need to have completed the steps in the [README](README.md), [notebook 01-install-prerequisites.ipynb](01-install-prerequisites.ipynb), and [ notebook 02-deploy-microservices.ipynb](01-install-prerequisites.ipynb) to install the dependencies into the workbench, and deploy all the microservices. Then run the commands below in your OpenShift AI Workbench. "
   ]
  },
  {
   "cell_type": "markdown",
   "id": "b5611b31",
   "metadata": {},
   "source": [
    "## Clone Computate and Smart Village repos"
   ]
  },
  {
   "cell_type": "markdown",
   "id": "0b621732",
   "metadata": {},
   "source": [
    "### Install the computate project\n",
    "\n",
    "The [computate project](https://github.com/computate-org/computate.git) is a Java project that watches for changes to files in a directory recursively, parses the Java code as it's created or updated, indexes every detail about each Java class, constructor, method, and field in the Apache Solr search engine, and generates code based on what it discovers. This is the main open source library that does the AI/ML code generation. Instead of a typical model server, we use Apache Solr as the model server. We can flexibly index every aspect about our Java code in Solr as we code over time, including multiple Java projects at the same time, and link together classes, types, and foreign key relations between projects. "
   ]
  },
  {
   "cell_type": "code",
   "execution_count": null,
   "id": "afb89892-f417-4fba-9c1c-d0f04d328af1",
   "metadata": {
    "vscode": {
     "languageId": "shellscript"
    }
   },
   "outputs": [],
   "source": [
    "eval $(./vars.py)\n",
    "git clone https://github.com/computate-org/computate.git $COMPUTATE_SRC\n",
    "echo DONE"
   ]
  },
  {
   "cell_type": "markdown",
   "id": "729d687d",
   "metadata": {},
   "source": [
    "Use maven to compile and install the computate project in the workbench. "
   ]
  },
  {
   "cell_type": "code",
   "execution_count": null,
   "id": "354b35b8-213b-4151-a9b0-a2fba25ee86e",
   "metadata": {
    "tags": [],
    "vscode": {
     "languageId": "shellscript"
    }
   },
   "outputs": [],
   "source": [
    "eval $(./vars.py)\n",
    "(cd $COMPUTATE_SRC && mvn clean install)\n",
    "echo DONE"
   ]
  },
  {
   "cell_type": "markdown",
   "id": "c3af15d2",
   "metadata": {},
   "source": [
    "### Create the computate collection in the search engine"
   ]
  },
  {
   "cell_type": "code",
   "execution_count": null,
   "id": "f5c282c7",
   "metadata": {
    "vscode": {
     "languageId": "shellscript"
    }
   },
   "outputs": [],
   "source": [
    "eval $(./vars.py)\n",
    "oc exec pod/solr-0 -- \\\n",
    "  env SOLR_COLLECTION=\"$SOLR_COLLECTION_COMPUTATE\" \\\n",
    "  ZOOKEEPER_HOST_NAME=\"$ZOOKEEPER_HOST_NAME\" \\\n",
    "  ZOOKEEPER_PORT=\"$ZOOKEEPER_PORT\" \\\n",
    "  bash -c 'env SOLR_AUTH_TYPE=basic SOLR_AUTHENTICATION_OPTS=\"-Dbasicauth=$SOLR_ADMIN_USERNAME:$SOLR_ADMIN_PASSWORD\" /opt/bitnami/solr/bin/solr create_collection -c $SOLR_COLLECTION -n computate'\n",
    "echo DONE"
   ]
  },
  {
   "cell_type": "markdown",
   "id": "6bb58d14",
   "metadata": {},
   "source": [
    "### Install the computate-base project\n",
    "\n",
    "The [computate-base project](https://github.com/computate-org/computate-base.git) contains the default Maven versions for all the dependencies. "
   ]
  },
  {
   "cell_type": "code",
   "execution_count": null,
   "id": "12b5d236",
   "metadata": {
    "vscode": {
     "languageId": "shellscript"
    }
   },
   "outputs": [],
   "source": [
    "eval $(./vars.py)\n",
    "git clone https://github.com/computate-org/computate-base.git $COMPUTATE_SRC/../computate-base\n",
    "echo DONE"
   ]
  },
  {
   "cell_type": "markdown",
   "id": "98104ba0",
   "metadata": {},
   "source": [
    "Use maven to compile and install the computate project in the workbench. "
   ]
  },
  {
   "cell_type": "code",
   "execution_count": null,
   "id": "32bc7672",
   "metadata": {
    "vscode": {
     "languageId": "shellscript"
    }
   },
   "outputs": [],
   "source": [
    "eval $(./vars.py)\n",
    "(cd $COMPUTATE_SRC/../computate-base && env mvn clean install)\n",
    "echo DONE"
   ]
  },
  {
   "cell_type": "markdown",
   "id": "a1c3f4fe",
   "metadata": {},
   "source": [
    "### Install the computate-search project\n",
    "\n",
    "The [computate-search project](https://github.com/computate-org/computate-search.git) is a Java project that mainly interacts with Apache Solr to make search queries, and parse the response. There are also several date time serializers and deserializers for handling date times in requests. One other important class is the `Wrap` class which can wrap a Java field initialization value by it's generic type as part of the generated initialization code for each class. "
   ]
  },
  {
   "cell_type": "code",
   "execution_count": null,
   "id": "4eb25561",
   "metadata": {
    "vscode": {
     "languageId": "shellscript"
    }
   },
   "outputs": [],
   "source": [
    "eval $(./vars.py)\n",
    "git clone https://github.com/computate-org/computate-search.git $COMPUTATE_SEARCH_SRC\n",
    "echo DONE"
   ]
  },
  {
   "cell_type": "markdown",
   "id": "082e9e0f",
   "metadata": {},
   "source": [
    "Run the Ansible Playbook to configure and compile the `computate-search` project. \n",
    "This will index all of the `computate-search` Java classes into the Apache Solr search engine. "
   ]
  },
  {
   "cell_type": "code",
   "execution_count": null,
   "id": "eff18d30-1f7b-4503-8358-e140ab9aaffb",
   "metadata": {
    "tags": [],
    "vscode": {
     "languageId": "shellscript"
    }
   },
   "outputs": [],
   "source": [
    "eval $(./vars.py)\n",
    "ansible-playbook -e @$VARS_PATH playbooks/computate-project.yaml \\\n",
    "  -e SYSTEMD_ENABLED=false \\\n",
    "  -e SITE_NAME=computate-search \\\n",
    "  -e SITE_PREFIX=\"$SITE_PREFIX\" \\\n",
    "  -e SOLR_HOST_NAME=\"$SOLR_HOST_NAME\" \\\n",
    "  -e SOLR_PORT=\"$SOLR_PORT\" \\\n",
    "  -e SOLR_SSL=\"$SOLR_SSL\" \\\n",
    "  -e SOLR_URL=\"$SOLR_URL_COMPUTATE\" \\\n",
    "  -e SOLR_URL_COMPUTATE=\"$SOLR_URL_COMPUTATE\"\n",
    "echo DONE"
   ]
  },
  {
   "cell_type": "markdown",
   "id": "7af2f091",
   "metadata": {},
   "source": [
    "Index all of the computate-search Java classes in the search engine. "
   ]
  },
  {
   "cell_type": "code",
   "execution_count": null,
   "id": "237dab0c-ac5f-432a-9ae4-e12839655ffd",
   "metadata": {
    "vscode": {
     "languageId": "shellscript"
    }
   },
   "outputs": [],
   "source": [
    "eval $(./vars.py)\n",
    "env VARS_PATH=~/ai-telemetry/doc/getting-started/openshift-ai/vars/computate-search-vars.yaml \\\n",
    "  SITE_LANG=enUS \\\n",
    "  COMPUTATE_SRC=$COMPUTATE_SRC \\\n",
    "  SOLR_COLLECTION_COMPUTATE=$SOLR_COLLECTION_COMPUTATE \\\n",
    "  ~/computate/bin/enUS/index.sh\n",
    "echo DONE"
   ]
  },
  {
   "cell_type": "markdown",
   "id": "f4162a9f",
   "metadata": {},
   "source": [
    "Now query the Solr search engine to find out how many Java classes, constructors, methods, fields, and generated fields are found in the  `computate-search` project. "
   ]
  },
  {
   "cell_type": "code",
   "execution_count": null,
   "id": "dde0f1bb",
   "metadata": {
    "vscode": {
     "languageId": "shellscript"
    }
   },
   "outputs": [],
   "source": [
    "eval $(./vars.py)\n",
    "curl -k -s -u \"$SOLR_USERNAME:$SOLR_PASSWORD\" \"$SOLR_URL_COMPUTATE\"'/query?rows=0&fq=siteNom_indexed_string:computate-search' -d \\\n",
    "  '{\n",
    "    \"query\": \"*:*\"\n",
    "    , \"facet\": {\n",
    "      \"classes\" : { \"type\": \"terms\", \"field\": \"classeNomSimple_enUS_indexed_string\", \"numBuckets\": true, \"limit\": 5 }\n",
    "      , \"constructors\" : { \"type\": \"terms\", \"field\": \"partEstConstructeur_indexed_boolean\" }\n",
    "      , \"methods\" : { \"type\": \"terms\", \"field\": \"partEstMethode_indexed_boolean\" }\n",
    "      , \"methodNames\" : { \"type\": \"terms\", \"field\": \"methodeVar_enUS_indexed_string\", \"numBuckets\": true, \"limit\": 5 }\n",
    "      , \"fields\" : { \"type\": \"terms\", \"field\": \"partEstChamp_indexed_boolean\" }\n",
    "      , \"fieldNames\" : { \"type\": \"terms\", \"field\": \"champVar_enUS_indexed_string\", \"numBuckets\": true, \"limit\": 5 }\n",
    "      , \"generatedFields\" : { \"type\": \"terms\", \"field\": \"partEstEntite_indexed_boolean\" }\n",
    "      , \"generatedFieldNames\" : { \"type\": \"terms\", \"field\": \"entiteVar_enUS_indexed_string\", \"numBuckets\": true, \"limit\": 5 }\n",
    "    }\n",
    "  }' | jq -r '\"\\(.facets.classes.numBuckets) Java classes (for example \\(.facets.classes.buckets | map(.val) | join(\", \")))\n",
    "\\(.facets.constructors.buckets[0].count) constructors\n",
    "\\(.facets.methods.buckets[0].count) methods (for example \\(.facets.methodNames.buckets | map(.val) | join(\", \")))\n",
    "\\(.facets.fields.buckets[0].count) fields (for example \\(.facets.fieldNames.buckets | map(.val) | join(\", \")))\n",
    "\\(.facets.generatedFields.buckets[0].count) new generated fields (for example \\(.facets.generatedFieldNames.buckets | map(.val) | join(\", \")))\"'\n",
    "echo DONE"
   ]
  },
  {
   "cell_type": "markdown",
   "id": "3b52068c",
   "metadata": {},
   "source": [
    "### Install the computate-vertx project\n",
    "\n",
    "The [computate-vertx project](https://github.com/computate-org/computate-vertx.git) is a Java project that integrates Vert.x libraries into a project for reactive, event-bus driven software development. There is additional search capabilities built in to perform searches to Apache Solr asynchronously. There is PostgreSQL database integration with serializers and deserializers for GeoJson fields. Additional Vert.x tools, OpenAPI schema writers, boiler plate code project writers, FIWARE and NGSI-LD context writers, OpenID Connect/OAuth2 authentication/authorization handlers, Handlebars HTML Template handlers, and a base API Java Interface for building powerful, reactive secure APIs for anything. "
   ]
  },
  {
   "cell_type": "code",
   "execution_count": null,
   "id": "9f8883fb",
   "metadata": {
    "vscode": {
     "languageId": "shellscript"
    }
   },
   "outputs": [],
   "source": [
    "eval $(./vars.py)\n",
    "git clone https://github.com/computate-org/computate-vertx.git $COMPUTATE_VERTX_SRC\n",
    "echo DONE"
   ]
  },
  {
   "cell_type": "markdown",
   "id": "e06cdf67",
   "metadata": {},
   "source": [
    "Run the Ansible Playbook to configure and compile the `computate-vertx` project. \n",
    "This will index all of the `computate-vertx` Java classes into the Apache Solr search engine. "
   ]
  },
  {
   "cell_type": "code",
   "execution_count": null,
   "id": "a8a615c3",
   "metadata": {
    "vscode": {
     "languageId": "shellscript"
    }
   },
   "outputs": [],
   "source": [
    "eval $(./vars.py)\n",
    "ansible-playbook -e @$VARS_PATH playbooks/computate-project.yaml \\\n",
    "  -e SYSTEMD_ENABLED=false \\\n",
    "  -e SITE_NAME=computate-vertx \\\n",
    "  -e SITE_PREFIX=\"$SITE_PREFIX\" \\\n",
    "  -e SOLR_HOST_NAME=\"$SOLR_HOST_NAME\" \\\n",
    "  -e SOLR_PORT=\"$SOLR_PORT\" \\\n",
    "  -e SOLR_SSL=\"$SOLR_SSL\" \\\n",
    "  -e SOLR_URL=\"$SOLR_URL_COMPUTATE\" \\\n",
    "  -e SOLR_URL_COMPUTATE=\"$SOLR_URL_COMPUTATE\"\n",
    "echo DONE"
   ]
  },
  {
   "cell_type": "markdown",
   "id": "c84431d7",
   "metadata": {},
   "source": [
    "Index all of the computate-vertx Java classes in the search engine. "
   ]
  },
  {
   "cell_type": "code",
   "execution_count": null,
   "id": "cdc0ab5e",
   "metadata": {
    "vscode": {
     "languageId": "shellscript"
    }
   },
   "outputs": [],
   "source": [
    "eval $(./vars.py)\n",
    "env VARS_PATH=~/ai-telemetry/doc/getting-started/openshift-ai/vars/computate-vertx-vars.yaml \\\n",
    "  SITE_LANG=enUS \\\n",
    "  COMPUTATE_SRC=$COMPUTATE_SRC \\\n",
    "  SOLR_COLLECTION_COMPUTATE=$SOLR_COLLECTION_COMPUTATE \\\n",
    "  ~/computate/bin/enUS/index.sh\n",
    "echo DONE"
   ]
  },
  {
   "cell_type": "markdown",
   "id": "dbeaa181",
   "metadata": {},
   "source": [
    "Now query the Solr search engine to find out how many Java classes, constructors, methods, fields, and generated fields are found in the  `computate-vertx` project. "
   ]
  },
  {
   "cell_type": "code",
   "execution_count": null,
   "id": "77c36fe2",
   "metadata": {
    "vscode": {
     "languageId": "shellscript"
    }
   },
   "outputs": [],
   "source": [
    "eval $(./vars.py)\n",
    "curl -k -s -u \"$SOLR_USERNAME:$SOLR_PASSWORD\" \"$SOLR_URL_COMPUTATE\"'/query?rows=0&fq=siteNom_indexed_string:computate-vertx' -d \\\n",
    "  '{\n",
    "    \"query\": \"*:*\"\n",
    "    , \"facet\": {\n",
    "      \"classes\" : { \"type\": \"terms\", \"field\": \"classeNomSimple_enUS_indexed_string\", \"numBuckets\": true, \"limit\": 5 }\n",
    "      , \"constructors\" : { \"type\": \"terms\", \"field\": \"partEstConstructeur_indexed_boolean\" }\n",
    "      , \"methods\" : { \"type\": \"terms\", \"field\": \"partEstMethode_indexed_boolean\" }\n",
    "      , \"methodNames\" : { \"type\": \"terms\", \"field\": \"methodeVar_enUS_indexed_string\", \"numBuckets\": true, \"limit\": 5 }\n",
    "      , \"fields\" : { \"type\": \"terms\", \"field\": \"partEstChamp_indexed_boolean\" }\n",
    "      , \"fieldNames\" : { \"type\": \"terms\", \"field\": \"champVar_enUS_indexed_string\", \"numBuckets\": true, \"limit\": 5 }\n",
    "      , \"generatedFields\" : { \"type\": \"terms\", \"field\": \"partEstEntite_indexed_boolean\" }\n",
    "      , \"generatedFieldNames\" : { \"type\": \"terms\", \"field\": \"entiteVar_enUS_indexed_string\", \"numBuckets\": true, \"limit\": 5 }\n",
    "    }\n",
    "  }' | jq -r '\"\\(.facets.classes.numBuckets) Java classes (for example \\(.facets.classes.buckets | map(.val) | join(\", \")))\n",
    "\\(.facets.constructors.buckets[0].count) constructors\n",
    "\\(.facets.methods.buckets[0].count) methods (for example \\(.facets.methodNames.buckets | map(.val) | join(\", \")))\n",
    "\\(.facets.fields.buckets[0].count) fields (for example \\(.facets.fieldNames.buckets | map(.val) | join(\", \")))\n",
    "\\(.facets.generatedFields.buckets[0].count) new generated fields (for example \\(.facets.generatedFieldNames.buckets | map(.val) | join(\", \")))\"'\n",
    "echo DONE"
   ]
  },
  {
   "cell_type": "markdown",
   "id": "d3c4ba5b",
   "metadata": {},
   "source": []
  }
 ],
 "metadata": {
  "kernelspec": {
   "display_name": "Bash",
   "language": "bash",
   "name": "bash"
  },
  "language_info": {
   "codemirror_mode": "shell",
   "file_extension": ".sh",
   "mimetype": "text/x-sh",
   "name": "bash"
  }
 },
 "nbformat": 4,
 "nbformat_minor": 5
}
