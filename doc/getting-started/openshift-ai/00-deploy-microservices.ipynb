{
 "cells": [
  {
   "cell_type": "markdown",
   "id": "d93baf20-7419-4c47-be53-2e33907fe263",
   "metadata": {},
   "source": [
    "## Deploy Zookeeper with Helm"
   ]
  },
  {
   "cell_type": "markdown",
   "id": "165cd967",
   "metadata": {},
   "source": [
    "Run the commands below to install zookeeper with helm. "
   ]
  },
  {
   "cell_type": "code",
   "execution_count": null,
   "id": "0158c4c1",
   "metadata": {
    "vscode": {
     "languageId": "shellscript"
    }
   },
   "outputs": [],
   "source": [
    "helm upgrade --install zookeeper oci://registry-1.docker.io/bitnamicharts/zookeeper \\\n",
    "  --set image.tag=3.9.2 \\\n",
    "  --set-json 'resources={\"requests\": {\"cpu\": \"200m\", \"memory\": \"500Mi\"}}' \\\n",
    "  --set persistence.size=1Gi \\\n",
    "  --set replicaCount=1\n",
    "echo DONE"
   ]
  },
  {
   "cell_type": "markdown",
   "id": "e289ea16-085b-4021-b816-85d66320b955",
   "metadata": {
    "tags": []
   },
   "source": [
    "### View Zookeeper pod details\n",
    "After deploying zookeeper, it will take a minute before the zookeeper pod is up and running. \n",
    "Run the command below until the zookeeper pod health checks are `READY 1/1` and `STATUS Running`. "
   ]
  },
  {
   "cell_type": "code",
   "execution_count": null,
   "id": "dcae73ba-5acf-4fb2-970d-3e0772e084f9",
   "metadata": {
    "tags": [],
    "vscode": {
     "languageId": "shellscript"
    }
   },
   "outputs": [],
   "source": [
    "oc get pod -l app.kubernetes.io/name=zookeeper\n",
    "oc wait pod -l app.kubernetes.io/name=zookeeper --for=condition=Ready --timeout=5m\n",
    "oc get pod -l app.kubernetes.io/name=zookeeper\n",
    "echo DONE"
   ]
  },
  {
   "cell_type": "markdown",
   "id": "b785d680",
   "metadata": {},
   "source": [
    "## Deploy Solr with Helm\n"
   ]
  },
  {
   "cell_type": "markdown",
   "id": "af58fe30",
   "metadata": {},
   "source": [
    "Run the command below to deploy the default computate Solr ConfigSet as a Kubernetes ConfigMap to the cloud. These configsets will be loaded later, when the Solr pod is running to initialize the Solr ConfigSet which is the schema you can use for Solr Collections in your site. "
   ]
  },
  {
   "cell_type": "markdown",
   "id": "32ff699b",
   "metadata": {},
   "source": [
    "Run the commands below to install solr with helm. "
   ]
  },
  {
   "cell_type": "code",
   "execution_count": null,
   "id": "43157017",
   "metadata": {
    "vscode": {
     "languageId": "shellscript"
    }
   },
   "outputs": [],
   "source": [
    "helm upgrade --install solr oci://registry-1.docker.io/bitnamicharts/solr \\\n",
    "  --set image.tag=9.6.1 \\\n",
    "  --set-json 'resources={\"requests\": {\"cpu\": \"200m\", \"memory\": \"500Mi\"}}' \\\n",
    "  --set zookeeper.enabled=false \\\n",
    "  --set externalZookeeper.servers={zookeeper:2181} \\\n",
    "  --set persistence.size=2Gi \\\n",
    "  --set collectionShards=1 \\\n",
    "  --set collectionReplicas=1 \\\n",
    "  --set replicaCount=1\n",
    "echo DONE"
   ]
  },
  {
   "cell_type": "markdown",
   "id": "db1114bc",
   "metadata": {},
   "source": [
    "### View solr pod details\n",
    "After deploying solr, it will take a minute before the solr pod is up and running. \n",
    "Run the command below until the solr pod health checks are `READY 1/1` and `STATUS Running`. "
   ]
  },
  {
   "cell_type": "code",
   "execution_count": null,
   "id": "9e420b8c",
   "metadata": {
    "vscode": {
     "languageId": "shellscript"
    }
   },
   "outputs": [],
   "source": [
    "oc get pod -l app.kubernetes.io/name=solr\n",
    "oc wait pod -l app.kubernetes.io/name=solr --for=condition=Ready --timeout=5m\n",
    "oc get pod -l app.kubernetes.io/name=solr\n",
    "echo DONE"
   ]
  },
  {
   "cell_type": "markdown",
   "id": "fcfb14ee",
   "metadata": {},
   "source": [
    "## Deploy PostgreSQL with helm"
   ]
  },
  {
   "cell_type": "markdown",
   "id": "8fe9d103",
   "metadata": {},
   "source": [
    "Run the commands below to install PostgreSQL relational database with helm. "
   ]
  },
  {
   "cell_type": "code",
   "execution_count": null,
   "id": "f807b438",
   "metadata": {
    "vscode": {
     "languageId": "shellscript"
    }
   },
   "outputs": [],
   "source": [
    "helm upgrade --install postgresql oci://registry-1.docker.io/bitnamicharts/postgresql \\\n",
    "  --set-json 'resources={\"requests\": {\"cpu\": \"200m\", \"memory\": \"500Mi\"}}' \\\n",
    "  --set-json 'primary.resources={\"limits\": {\"ephemeral-storage\": \"1Gi\"}}' \\\n",
    "  --set image.tag=14.5.0 \\\n",
    "  --set primary.persistence.size=2Gi\n",
    "echo DONE"
   ]
  },
  {
   "cell_type": "markdown",
   "id": "54d9b1cb",
   "metadata": {},
   "source": [
    "### View PostgreSQL pod details\n",
    "After deploying the Helm Chart, it will take a minute before the PostgreSQL pod is up and running. Run the command below until the PostgreSQL pod health checks are `READY 1/1` and `STATUS Running`. "
   ]
  },
  {
   "cell_type": "code",
   "execution_count": null,
   "id": "fc3464f4",
   "metadata": {
    "vscode": {
     "languageId": "shellscript"
    }
   },
   "outputs": [],
   "source": [
    "oc get pod -l app.kubernetes.io/name=postgresql\n",
    "oc wait pod -l app.kubernetes.io/name=postgresql --for=condition=Ready --timeout=2m\n",
    "oc get pod -l app.kubernetes.io/name=postgresql\n",
    "echo DONE"
   ]
  },
  {
   "cell_type": "markdown",
   "id": "5e3cf303",
   "metadata": {},
   "source": [
    "## Deploy the MongoDB NOSQL Database in the OpenShift Developer Sandbox\n",
    "\n",
    "A MongoDB No-SQL Database is required for FIWARE IoT Agents to store smart device registration data about each smart device in the project. "
   ]
  },
  {
   "cell_type": "markdown",
   "id": "953f9e61",
   "metadata": {},
   "source": [
    "Deploy MongoDB with helm. "
   ]
  },
  {
   "cell_type": "code",
   "execution_count": null,
   "id": "63b614b8",
   "metadata": {
    "vscode": {
     "languageId": "shellscript"
    }
   },
   "outputs": [],
   "source": [
    "helm upgrade --install mongodb oci://registry-1.docker.io/bitnamicharts/mongodb \\\n",
    " --set persistence.size=2Gi \\\n",
    " --set nameOverride=mongodb \\\n",
    " --set fullnameOverride=mongodb \\\n",
    " --set replicaCount=1 \\\n",
    " --set architecture=standalone \\\n",
    " --set podSecurityContext.enabled=false \\\n",
    " --set containerSecurityContext.enabled=false \\\n",
    " --set \"resources.limits.memory=1Gi\" \\\n",
    " --set \"resources.limits.cpu=1\" \\\n",
    " --set \"resources.requests.cpu=300m\" \\\n",
    " --set \"resources.requests.memory=300Mi\" \\\n",
    " --set persistence.enabled=true \\\n",
    " --set \"persistence.size=8Gi\" \\\n",
    " --set readinessProbe.timeoutSeconds=60 \\\n",
    " --set systemLogVerbosity=1 \\\n",
    " --set-json 'podLabels={\"marinera/platform\":\"fiware\", \"marinera/component\":\"core\", \"marinera/subcomponent\":\"persistence\", \"marinera/product\":\"mongodb\"}' \\\n",
    " --set metrics.enabled=true \\\n",
    " --set serviceMonitor.enabled=true \\\n",
    " --set arbiter.podSecurityContext.enabled=false \\\n",
    " --set arbiter.containerSecurityContext.enabled=false \\\n",
    " --set-json 'arbiter.podLabels={\"marinera/platform\":\"fiware\", \"marinera/component\":\"core\", \"marinera/subcomponent\":\"persistence\", \"marinera/product\":\"mongodb\"}' \\\n",
    " --set arbiter.readinessProbe.timeoutSeconds=60 \\\n",
    " --set \"arbiter.resources.limits.memory=1Gi\" \\\n",
    " --set \"arbiter.resources.limits.cpu=1\" \\\n",
    " --set \"arbiter.resources.requests.cpu=200m\" \\\n",
    " --set \"arbiter.resources.requests.memory=300Mi\"\n",
    "echo DONE"
   ]
  },
  {
   "cell_type": "markdown",
   "id": "22ad8603",
   "metadata": {},
   "source": [
    "### View MongoDB pod details\n",
    "After deploying MongoDB with helm, it will take a minute before the MongoDB pod is up and running. Run the command below until the MongoDB pod health checks are `READY 2/2` and `STATUS Running`. "
   ]
  },
  {
   "cell_type": "code",
   "execution_count": null,
   "id": "782c3df1",
   "metadata": {
    "vscode": {
     "languageId": "shellscript"
    }
   },
   "outputs": [],
   "source": [
    "oc get pod -l app.kubernetes.io/instance=mongodb\n",
    "oc wait pod -l app.kubernetes.io/instance=mongodb --for=condition=Ready --timeout=5m\n",
    "oc get pod -l app.kubernetes.io/instance=mongodb\n",
    "echo DONE"
   ]
  },
  {
   "cell_type": "markdown",
   "id": "c508d4e7",
   "metadata": {},
   "source": [
    "## Deploy RabbitMQ with helm. "
   ]
  },
  {
   "cell_type": "markdown",
   "id": "a808188b",
   "metadata": {},
   "source": [
    "A message broker like RabbitMQ can receive messages from smart devices and forward them on to an IoT Agent to process the message. "
   ]
  },
  {
   "cell_type": "markdown",
   "id": "c0b4f183",
   "metadata": {},
   "source": [
    "Create a RabbitMQ secret. "
   ]
  },
  {
   "cell_type": "code",
   "execution_count": null,
   "id": "73bc146e",
   "metadata": {
    "vscode": {
     "languageId": "shellscript"
    }
   },
   "outputs": [],
   "source": [
    "oc create secret generic rabbitmq \\\n",
    "  --from-literal rabbitmq-password=\"$(tr -dc 'A-Za-z0-9' < /dev/urandom | head -c 15)\" \\\n",
    "  --from-literal rabbitmq-erlang-cookie=\"$(tr -dc 'A-Za-z0-9' < /dev/urandom | head -c 15)\"\n",
    "echo DONE"
   ]
  },
  {
   "cell_type": "code",
   "execution_count": null,
   "id": "7fb4e89e",
   "metadata": {
    "vscode": {
     "languageId": "shellscript"
    }
   },
   "outputs": [],
   "source": [
    "helm upgrade --install rabbitmq oci://registry-1.docker.io/bitnamicharts/rabbitmq \\\n",
    "  --set \"replicaCount=1\" \\\n",
    "  --set \"resources.limits.memory=1Gi\" \\\n",
    "  --set \"resources.limits.cpu=1\" \\\n",
    "  --set \"resources.requests.cpu=200m\" \\\n",
    "  --set \"resources.requests.memory=200Mi\" \\\n",
    "  --set \"auth.username=user\" \\\n",
    "  --set \"auth.existingPasswordSecret=rabbitmq\" \\\n",
    "  --set \"auth.existingErlangSecret=rabbitmq\" \\\n",
    "  --set \"extraPlugins='rabbitmq_auth_backend_ldap rabbitmq_auth_backend_http'\" \\\n",
    "  --set \"persistence.enabled=false\" \\\n",
    "  --set podSecurityContext.enabled=false \\\n",
    "  --set containerSecurityContext.enabled=false\n",
    "echo DONE"
   ]
  },
  {
   "cell_type": "markdown",
   "id": "78922ee1",
   "metadata": {},
   "source": [
    "### View RabbitMQ pod details\n",
    "After deploying RabbitMQ with helm, it will take a minute before the RabbitMQ pod is up and running. Run the command below until the RabbitMQ pod health checks are `READY 1/1` and `STATUS Running`. "
   ]
  },
  {
   "cell_type": "code",
   "execution_count": null,
   "id": "c2c46de6",
   "metadata": {
    "vscode": {
     "languageId": "shellscript"
    }
   },
   "outputs": [],
   "source": [
    "oc get pod -l app.kubernetes.io/instance=rabbitmq\n",
    "oc wait pod -l app.kubernetes.io/instance=rabbitmq --for=condition=Ready --timeout=5m\n",
    "oc get pod -l app.kubernetes.io/instance=rabbitmq\n",
    "echo DONE"
   ]
  },
  {
   "cell_type": "markdown",
   "id": "da1e16a4",
   "metadata": {},
   "source": [
    "## Deploy Keycloak with helm. "
   ]
  },
  {
   "cell_type": "code",
   "execution_count": null,
   "id": "7a5c8cac",
   "metadata": {
    "vscode": {
     "languageId": "shellscript"
    }
   },
   "outputs": [],
   "source": [
    "OPENSHIFT_APPS_DOMAIN=apps.shift.nerc.mghpcc.org\n",
    "\n",
    "helm upgrade --install keycloak oci://registry-1.docker.io/bitnamicharts/keycloak --version 21.7.1 \\\n",
    "  --set postgresql.enabled=false \\\n",
    "  --set-json 'resources={\"requests\": {\"cpu\": \"200m\", \"memory\": \"500Mi\"}}' \\\n",
    "  --set externalDatabase.host=postgresql \\\n",
    "  --set externalDatabase.user=keycloak \\\n",
    "  --set externalDatabase.password=$(oc get secret/postgres-pguser-keycloak -o jsonpath={.data.password} | base64 -d) \\\n",
    "  --set externalDatabase.database=keycloak \\\n",
    "  --set externalDatabase.port=5432 \\\n",
    "  --set ingress.enabled=true \\\n",
    "  --set ingress.hostname=ai-telemetry-keycloak.$OPENSHIFT_APPS_DOMAIN \\\n",
    "  --set adminIngress.hostname=ai-telemetry-keycloak.$OPENSHIFT_APPS_DOMAIN \\\n",
    "  --set-json 'extraEnvVars=[{\"name\":\"KC_HOSTNAME_URL\",\"value\":\"https://ai-telemetry-keycloak.'\"$OPENSHIFT_APPS_DOMAIN\"'\"}, {\"name\":\"KC_HOSTNAME_ADMIN_URL\",\"value\":\"https://ai-telemetry-keycloak.'\"$OPENSHIFT_APPS_DOMAIN\"'\"}]' \\\n",
    "  --set ingress.tls=true \\\n",
    "  --set ingress.selfSigned=false \\\n",
    "  --set production=true \\\n",
    "  --set tls.enabled=true \\\n",
    "  --set tls.autoGenerated=true \\\n",
    "  --set image.tag=24.0.5 \\\n",
    "  --set auth.existingSecret=keycloak-initial-admin \\\n",
    "  --set auth.adminUser=admin \\\n",
    "  --set auth.passwordSecretKey=admin-password\n",
    "echo DONE"
   ]
  },
  {
   "cell_type": "markdown",
   "id": "21b5f3b5",
   "metadata": {},
   "source": [
    "### View Keycloak pod details\n",
    "After deploying the Helm Chart, it will take a minute before the Keycloak pod is up and running. Run the command below until the Keycloak pod health checks are `READY 1/1` and `STATUS Running`. "
   ]
  },
  {
   "cell_type": "code",
   "execution_count": null,
   "id": "0390ea75",
   "metadata": {
    "vscode": {
     "languageId": "shellscript"
    }
   },
   "outputs": [],
   "source": [
    "oc get pod/keycloak-0\n",
    "oc wait pod/keycloak-0 --for=condition=Ready --timeout=2m\n",
    "oc get pod/keycloak-0\n",
    "echo DONE"
   ]
  }
 ],
 "metadata": {
  "kernelspec": {
   "display_name": "Bash",
   "language": "bash",
   "name": "bash"
  },
  "language_info": {
   "codemirror_mode": "shell",
   "file_extension": ".sh",
   "mimetype": "text/x-sh",
   "name": "bash"
  }
 },
 "nbformat": 4,
 "nbformat_minor": 5
}
